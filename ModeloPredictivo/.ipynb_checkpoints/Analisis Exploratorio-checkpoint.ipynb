{
 "cells": [
  {
   "cell_type": "markdown",
   "metadata": {},
   "source": [
    "# BIENESTAR DE LOS ESTUDIANTES DE LA UNIVERSIDAD DISTRITAL A PARTIR DE SWLS\n",
    "\n",
    "El motivo de este analisis exploratorio es observar que variables independientes influyen mas a los estudiantes a sentirse satisfechos en la universidad.\n",
    "\n",
    "### Objetivos\n",
    "1)Analisis de las Caracteristicas.\n",
    "\n",
    "2)Encontrar cualquier relacion o tendencia entre los datos."
   ]
  },
  {
   "cell_type": "code",
   "execution_count": 2,
   "metadata": {},
   "outputs": [],
   "source": [
    "import pandas as pd #obtencion y analisis de dataframe\n",
    "import matplotlib.pyplot as plt #graficos para el analisis\n",
    "import seaborn as sns #graficos de calor\n",
    "from scipy import stats\n",
    "import math #nos ayudara a obtener operadores matematicos\n",
    "import warnings #evita los errores\n",
    "\n",
    "warnings.filterwarnings('ignore')"
   ]
  },
  {
   "cell_type": "code",
   "execution_count": 3,
   "metadata": {},
   "outputs": [
    {
     "name": "stdout",
     "output_type": "stream",
     "text": [
      "<class 'pandas.core.frame.DataFrame'>\n",
      "RangeIndex: 933 entries, 0 to 932\n",
      "Data columns (total 24 columns):\n",
      "Programa_Academico          933 non-null object\n",
      "Numero_Matricula            933 non-null int64\n",
      "Sexo                        933 non-null int64\n",
      "Edad                        933 non-null int64\n",
      "Estado_Civil                933 non-null int64\n",
      "Valor_Matricula             933 non-null int64\n",
      "Vive_Con_Padres             933 non-null int64\n",
      "Cabeza_Familia              933 non-null int64\n",
      "Num_Personas_A_Cargo        933 non-null int64\n",
      "Estrato                     933 non-null int64\n",
      "Ingreso_Familiar_Mensual    933 non-null int64\n",
      "Trabaja_Actualmente         933 non-null int64\n",
      "Horas_Trabajadas            933 non-null int64\n",
      "Educacion_Padre             933 non-null int64\n",
      "Educacion_Madre             933 non-null int64\n",
      "Ocupacion_Madre             933 non-null int64\n",
      "Ocupacion_Padre             933 non-null int64\n",
      "Pregunta1                   933 non-null int64\n",
      "Pregunta2                   933 non-null int64\n",
      "Pregunta3                   933 non-null int64\n",
      "Pregunta4                   933 non-null int64\n",
      "Pregunta5                   933 non-null int64\n",
      "Suma_Total                  933 non-null int64\n",
      "Rango_SWLS                  933 non-null int64\n",
      "dtypes: int64(23), object(1)\n",
      "memory usage: 175.0+ KB\n"
     ]
    }
   ],
   "source": [
    "data = pd.read_csv('muestreo_distrital.csv')#leemos el dataset csv\n",
    "data.info() #mostramos la informacion del dataset cargado"
   ]
  },
  {
   "cell_type": "markdown",
   "metadata": {},
   "source": [
    "El cuestionario de la escala de Satisfaccion con la vida fue desarrollada  por Ed Diener en su publicacion \"SATISFACTION WITH LIFE SCALE\" en 1985.\n",
    "El cuestionario consta de 5 preguntas, proporcionando cada pregunta una puntuación entre 1 y 7. La puntuación máxima posible es por tanto 35. Los puntos de corte sugeridos por Ed Diener en el documento \"Understanding the SWLS scores\" para interpretar el resultado obtenido son los siguientes:"
   ]
  },
  {
   "cell_type": "markdown",
   "metadata": {},
   "source": [
    "### 30–35 \n",
    "Puntuación muy alta; altamente satisfechas. Las personas que obtienen una puntuación en esta rango aman sus vidas y sienten que las cosas les van muy bien.\n",
    "\n",
    "### 25–29\n",
    "Puntuación alta. Las personas que obtienen una puntuación en esta rango aman sus vidas y sienten que las cosas les van muy bien. Pese a ello, tienen identificadas áreas de insatisfacción.\n",
    "\n",
    "### 20–24\n",
    "Puntuación media. La puntuación media obtenida en los países desarrollados se sitúa en esta zona. Las personas que obtienen una puntuación en este rango consideran que hay áreas de su vida que necesitan mejorar.\n",
    "\n",
    "### 15–19\n",
    "Ligeramente por debajo de la media. Las personas que obtienen una puntuación en este rango suelen tener problemas pequeños pero significantes en varias áreas de sus vidas.\n",
    "\n",
    "### 10–14\n",
    "Insatisfechas. Las personas que obtienen una puntuación en este rango están significativamente insatisfechas con sus vidas.\n",
    "\n",
    "### 5–9\n",
    "Extremadamente insatisfechas. Las personas que obtienen una puntuación en este rango suelen sentirse extremadamente infelices con su vida actual."
   ]
  },
  {
   "cell_type": "markdown",
   "metadata": {},
   "source": [
    "## Generar Rangos A Los Puntajes Obtenidos \n",
    "En el dataseet \"dataseet_distrital.csv\" solo tiene la suma total de cada pregunta, por ende vamos a generar los siguientes rangos:\n",
    "##### 5 - 9     = 1\n",
    "##### 10 - 14 = 2\n",
    "##### 15 - 19 = 3\n",
    "##### 20 - 24 = 4\n",
    "##### 25 - 29 = 5\n",
    "##### 30 - 35 = 6"
   ]
  },
  {
   "cell_type": "code",
   "execution_count": 4,
   "metadata": {},
   "outputs": [
    {
     "data": {
      "text/html": [
       "<div>\n",
       "<style scoped>\n",
       "    .dataframe tbody tr th:only-of-type {\n",
       "        vertical-align: middle;\n",
       "    }\n",
       "\n",
       "    .dataframe tbody tr th {\n",
       "        vertical-align: top;\n",
       "    }\n",
       "\n",
       "    .dataframe thead th {\n",
       "        text-align: right;\n",
       "    }\n",
       "</style>\n",
       "<table border=\"1\" class=\"dataframe\">\n",
       "  <thead>\n",
       "    <tr style=\"text-align: right;\">\n",
       "      <th></th>\n",
       "      <th>Programa_Academico</th>\n",
       "      <th>Numero_Matricula</th>\n",
       "      <th>Sexo</th>\n",
       "      <th>Edad</th>\n",
       "      <th>Estado_Civil</th>\n",
       "      <th>Valor_Matricula</th>\n",
       "      <th>Vive_Con_Padres</th>\n",
       "      <th>Cabeza_Familia</th>\n",
       "      <th>Num_Personas_A_Cargo</th>\n",
       "      <th>Estrato</th>\n",
       "      <th>...</th>\n",
       "      <th>Educacion_Madre</th>\n",
       "      <th>Ocupacion_Madre</th>\n",
       "      <th>Ocupacion_Padre</th>\n",
       "      <th>Pregunta1</th>\n",
       "      <th>Pregunta2</th>\n",
       "      <th>Pregunta3</th>\n",
       "      <th>Pregunta4</th>\n",
       "      <th>Pregunta5</th>\n",
       "      <th>Suma_Total</th>\n",
       "      <th>Rango_SWLS</th>\n",
       "    </tr>\n",
       "  </thead>\n",
       "  <tbody>\n",
       "    <tr>\n",
       "      <th>0</th>\n",
       "      <td>Comunicación social y periodismo</td>\n",
       "      <td>7</td>\n",
       "      <td>0</td>\n",
       "      <td>21</td>\n",
       "      <td>1</td>\n",
       "      <td>1</td>\n",
       "      <td>1</td>\n",
       "      <td>0</td>\n",
       "      <td>0</td>\n",
       "      <td>4</td>\n",
       "      <td>...</td>\n",
       "      <td>9</td>\n",
       "      <td>2</td>\n",
       "      <td>1</td>\n",
       "      <td>5</td>\n",
       "      <td>7</td>\n",
       "      <td>6</td>\n",
       "      <td>7</td>\n",
       "      <td>7</td>\n",
       "      <td>32</td>\n",
       "      <td>6</td>\n",
       "    </tr>\n",
       "    <tr>\n",
       "      <th>1</th>\n",
       "      <td>Comunicación social y periodismo</td>\n",
       "      <td>3</td>\n",
       "      <td>1</td>\n",
       "      <td>23</td>\n",
       "      <td>3</td>\n",
       "      <td>3</td>\n",
       "      <td>1</td>\n",
       "      <td>0</td>\n",
       "      <td>0</td>\n",
       "      <td>4</td>\n",
       "      <td>...</td>\n",
       "      <td>6</td>\n",
       "      <td>1</td>\n",
       "      <td>6</td>\n",
       "      <td>4</td>\n",
       "      <td>5</td>\n",
       "      <td>4</td>\n",
       "      <td>4</td>\n",
       "      <td>4</td>\n",
       "      <td>21</td>\n",
       "      <td>4</td>\n",
       "    </tr>\n",
       "    <tr>\n",
       "      <th>2</th>\n",
       "      <td>Comunicación social y periodismo</td>\n",
       "      <td>4</td>\n",
       "      <td>1</td>\n",
       "      <td>19</td>\n",
       "      <td>1</td>\n",
       "      <td>0</td>\n",
       "      <td>1</td>\n",
       "      <td>0</td>\n",
       "      <td>0</td>\n",
       "      <td>1</td>\n",
       "      <td>...</td>\n",
       "      <td>1</td>\n",
       "      <td>10</td>\n",
       "      <td>9</td>\n",
       "      <td>3</td>\n",
       "      <td>4</td>\n",
       "      <td>5</td>\n",
       "      <td>6</td>\n",
       "      <td>1</td>\n",
       "      <td>19</td>\n",
       "      <td>3</td>\n",
       "    </tr>\n",
       "    <tr>\n",
       "      <th>3</th>\n",
       "      <td>Comunicación social y periodismo</td>\n",
       "      <td>6</td>\n",
       "      <td>1</td>\n",
       "      <td>18</td>\n",
       "      <td>1</td>\n",
       "      <td>1</td>\n",
       "      <td>1</td>\n",
       "      <td>0</td>\n",
       "      <td>0</td>\n",
       "      <td>3</td>\n",
       "      <td>...</td>\n",
       "      <td>6</td>\n",
       "      <td>3</td>\n",
       "      <td>3</td>\n",
       "      <td>6</td>\n",
       "      <td>5</td>\n",
       "      <td>5</td>\n",
       "      <td>6</td>\n",
       "      <td>6</td>\n",
       "      <td>28</td>\n",
       "      <td>5</td>\n",
       "    </tr>\n",
       "    <tr>\n",
       "      <th>4</th>\n",
       "      <td>Comunicación social y periodismo</td>\n",
       "      <td>6</td>\n",
       "      <td>1</td>\n",
       "      <td>23</td>\n",
       "      <td>1</td>\n",
       "      <td>1</td>\n",
       "      <td>1</td>\n",
       "      <td>0</td>\n",
       "      <td>0</td>\n",
       "      <td>2</td>\n",
       "      <td>...</td>\n",
       "      <td>1</td>\n",
       "      <td>2</td>\n",
       "      <td>2</td>\n",
       "      <td>5</td>\n",
       "      <td>4</td>\n",
       "      <td>4</td>\n",
       "      <td>3</td>\n",
       "      <td>1</td>\n",
       "      <td>17</td>\n",
       "      <td>3</td>\n",
       "    </tr>\n",
       "  </tbody>\n",
       "</table>\n",
       "<p>5 rows × 24 columns</p>\n",
       "</div>"
      ],
      "text/plain": [
       "                 Programa_Academico  Numero_Matricula  Sexo  Edad  \\\n",
       "0  Comunicación social y periodismo                 7     0    21   \n",
       "1  Comunicación social y periodismo                 3     1    23   \n",
       "2  Comunicación social y periodismo                 4     1    19   \n",
       "3  Comunicación social y periodismo                 6     1    18   \n",
       "4  Comunicación social y periodismo                 6     1    23   \n",
       "\n",
       "   Estado_Civil  Valor_Matricula  Vive_Con_Padres  Cabeza_Familia  \\\n",
       "0             1                1                1               0   \n",
       "1             3                3                1               0   \n",
       "2             1                0                1               0   \n",
       "3             1                1                1               0   \n",
       "4             1                1                1               0   \n",
       "\n",
       "   Num_Personas_A_Cargo  Estrato  ...  Educacion_Madre  Ocupacion_Madre  \\\n",
       "0                     0        4  ...                9                2   \n",
       "1                     0        4  ...                6                1   \n",
       "2                     0        1  ...                1               10   \n",
       "3                     0        3  ...                6                3   \n",
       "4                     0        2  ...                1                2   \n",
       "\n",
       "   Ocupacion_Padre  Pregunta1  Pregunta2  Pregunta3  Pregunta4  Pregunta5  \\\n",
       "0                1          5          7          6          7          7   \n",
       "1                6          4          5          4          4          4   \n",
       "2                9          3          4          5          6          1   \n",
       "3                3          6          5          5          6          6   \n",
       "4                2          5          4          4          3          1   \n",
       "\n",
       "   Suma_Total  Rango_SWLS  \n",
       "0          32           6  \n",
       "1          21           4  \n",
       "2          19           3  \n",
       "3          28           5  \n",
       "4          17           3  \n",
       "\n",
       "[5 rows x 24 columns]"
      ]
     },
     "execution_count": 4,
     "metadata": {},
     "output_type": "execute_result"
    }
   ],
   "source": [
    "data.head() #Se muestran las primeras 5 filas del dataseet"
   ]
  },
  {
   "cell_type": "markdown",
   "metadata": {},
   "source": [
    "## Normalizacion"
   ]
  },
  {
   "cell_type": "markdown",
   "metadata": {},
   "source": [
    "Para que funcionen mejor el algoritmo de machine learning y nuestro análisis exploratorio sea mas eficiente, hay que normalizar las variables de entrada al algoritmo. Normalizar significa, en este caso, comprimir o extender los valores de la variable para que estén en un rango definido. "
   ]
  },
  {
   "cell_type": "code",
   "execution_count": 5,
   "metadata": {},
   "outputs": [],
   "source": [
    "#El programa academico por su gran variedad en los 933 datos, no se puede categorizar y tomar en cuenta para este analisis\n",
    "dataTrue = data.drop(['Programa_Academico', 'Suma_Total', 'Rango_SWLS'], axis='columns') #Borramos las columnas que no utilizaremos para el analisis exploratorio\n",
    "data_norm = (dataTrue-dataTrue.min())/(dataTrue.max()- dataTrue.min()) #normalizamos nuestro dataset para el eestudio de correlacion"
   ]
  },
  {
   "cell_type": "code",
   "execution_count": 6,
   "metadata": {},
   "outputs": [
    {
     "data": {
      "text/html": [
       "<div>\n",
       "<style scoped>\n",
       "    .dataframe tbody tr th:only-of-type {\n",
       "        vertical-align: middle;\n",
       "    }\n",
       "\n",
       "    .dataframe tbody tr th {\n",
       "        vertical-align: top;\n",
       "    }\n",
       "\n",
       "    .dataframe thead th {\n",
       "        text-align: right;\n",
       "    }\n",
       "</style>\n",
       "<table border=\"1\" class=\"dataframe\">\n",
       "  <thead>\n",
       "    <tr style=\"text-align: right;\">\n",
       "      <th></th>\n",
       "      <th>Numero_Matricula</th>\n",
       "      <th>Sexo</th>\n",
       "      <th>Edad</th>\n",
       "      <th>Estado_Civil</th>\n",
       "      <th>Valor_Matricula</th>\n",
       "      <th>Vive_Con_Padres</th>\n",
       "      <th>Cabeza_Familia</th>\n",
       "      <th>Num_Personas_A_Cargo</th>\n",
       "      <th>Estrato</th>\n",
       "      <th>Ingreso_Familiar_Mensual</th>\n",
       "      <th>...</th>\n",
       "      <th>Horas_Trabajadas</th>\n",
       "      <th>Educacion_Padre</th>\n",
       "      <th>Educacion_Madre</th>\n",
       "      <th>Ocupacion_Madre</th>\n",
       "      <th>Ocupacion_Padre</th>\n",
       "      <th>Pregunta1</th>\n",
       "      <th>Pregunta2</th>\n",
       "      <th>Pregunta3</th>\n",
       "      <th>Pregunta4</th>\n",
       "      <th>Pregunta5</th>\n",
       "    </tr>\n",
       "  </thead>\n",
       "  <tbody>\n",
       "    <tr>\n",
       "      <th>0</th>\n",
       "      <td>0.461538</td>\n",
       "      <td>0.0</td>\n",
       "      <td>0.461538</td>\n",
       "      <td>0.0</td>\n",
       "      <td>0.25</td>\n",
       "      <td>1.0</td>\n",
       "      <td>0.0</td>\n",
       "      <td>0.0</td>\n",
       "      <td>0.6</td>\n",
       "      <td>0.666667</td>\n",
       "      <td>...</td>\n",
       "      <td>0.0</td>\n",
       "      <td>0.888889</td>\n",
       "      <td>1.000000</td>\n",
       "      <td>0.181818</td>\n",
       "      <td>0.090909</td>\n",
       "      <td>0.666667</td>\n",
       "      <td>1.000000</td>\n",
       "      <td>0.833333</td>\n",
       "      <td>1.000000</td>\n",
       "      <td>1.000000</td>\n",
       "    </tr>\n",
       "    <tr>\n",
       "      <th>1</th>\n",
       "      <td>0.153846</td>\n",
       "      <td>1.0</td>\n",
       "      <td>0.615385</td>\n",
       "      <td>1.0</td>\n",
       "      <td>0.75</td>\n",
       "      <td>1.0</td>\n",
       "      <td>0.0</td>\n",
       "      <td>0.0</td>\n",
       "      <td>0.6</td>\n",
       "      <td>0.666667</td>\n",
       "      <td>...</td>\n",
       "      <td>0.0</td>\n",
       "      <td>0.555556</td>\n",
       "      <td>0.666667</td>\n",
       "      <td>0.090909</td>\n",
       "      <td>0.545455</td>\n",
       "      <td>0.500000</td>\n",
       "      <td>0.666667</td>\n",
       "      <td>0.500000</td>\n",
       "      <td>0.500000</td>\n",
       "      <td>0.500000</td>\n",
       "    </tr>\n",
       "    <tr>\n",
       "      <th>2</th>\n",
       "      <td>0.230769</td>\n",
       "      <td>1.0</td>\n",
       "      <td>0.307692</td>\n",
       "      <td>0.0</td>\n",
       "      <td>0.00</td>\n",
       "      <td>1.0</td>\n",
       "      <td>0.0</td>\n",
       "      <td>0.0</td>\n",
       "      <td>0.0</td>\n",
       "      <td>0.333333</td>\n",
       "      <td>...</td>\n",
       "      <td>0.0</td>\n",
       "      <td>0.111111</td>\n",
       "      <td>0.111111</td>\n",
       "      <td>0.909091</td>\n",
       "      <td>0.818182</td>\n",
       "      <td>0.333333</td>\n",
       "      <td>0.500000</td>\n",
       "      <td>0.666667</td>\n",
       "      <td>0.833333</td>\n",
       "      <td>0.000000</td>\n",
       "    </tr>\n",
       "    <tr>\n",
       "      <th>3</th>\n",
       "      <td>0.384615</td>\n",
       "      <td>1.0</td>\n",
       "      <td>0.230769</td>\n",
       "      <td>0.0</td>\n",
       "      <td>0.25</td>\n",
       "      <td>1.0</td>\n",
       "      <td>0.0</td>\n",
       "      <td>0.0</td>\n",
       "      <td>0.4</td>\n",
       "      <td>0.500000</td>\n",
       "      <td>...</td>\n",
       "      <td>0.0</td>\n",
       "      <td>0.666667</td>\n",
       "      <td>0.666667</td>\n",
       "      <td>0.272727</td>\n",
       "      <td>0.272727</td>\n",
       "      <td>0.833333</td>\n",
       "      <td>0.666667</td>\n",
       "      <td>0.666667</td>\n",
       "      <td>0.833333</td>\n",
       "      <td>0.833333</td>\n",
       "    </tr>\n",
       "    <tr>\n",
       "      <th>4</th>\n",
       "      <td>0.384615</td>\n",
       "      <td>1.0</td>\n",
       "      <td>0.615385</td>\n",
       "      <td>0.0</td>\n",
       "      <td>0.25</td>\n",
       "      <td>1.0</td>\n",
       "      <td>0.0</td>\n",
       "      <td>0.0</td>\n",
       "      <td>0.2</td>\n",
       "      <td>0.166667</td>\n",
       "      <td>...</td>\n",
       "      <td>0.0</td>\n",
       "      <td>0.111111</td>\n",
       "      <td>0.111111</td>\n",
       "      <td>0.181818</td>\n",
       "      <td>0.181818</td>\n",
       "      <td>0.666667</td>\n",
       "      <td>0.500000</td>\n",
       "      <td>0.500000</td>\n",
       "      <td>0.333333</td>\n",
       "      <td>0.000000</td>\n",
       "    </tr>\n",
       "  </tbody>\n",
       "</table>\n",
       "<p>5 rows × 21 columns</p>\n",
       "</div>"
      ],
      "text/plain": [
       "   Numero_Matricula  Sexo      Edad  Estado_Civil  Valor_Matricula  \\\n",
       "0          0.461538   0.0  0.461538           0.0             0.25   \n",
       "1          0.153846   1.0  0.615385           1.0             0.75   \n",
       "2          0.230769   1.0  0.307692           0.0             0.00   \n",
       "3          0.384615   1.0  0.230769           0.0             0.25   \n",
       "4          0.384615   1.0  0.615385           0.0             0.25   \n",
       "\n",
       "   Vive_Con_Padres  Cabeza_Familia  Num_Personas_A_Cargo  Estrato  \\\n",
       "0              1.0             0.0                   0.0      0.6   \n",
       "1              1.0             0.0                   0.0      0.6   \n",
       "2              1.0             0.0                   0.0      0.0   \n",
       "3              1.0             0.0                   0.0      0.4   \n",
       "4              1.0             0.0                   0.0      0.2   \n",
       "\n",
       "   Ingreso_Familiar_Mensual  ...  Horas_Trabajadas  Educacion_Padre  \\\n",
       "0                  0.666667  ...               0.0         0.888889   \n",
       "1                  0.666667  ...               0.0         0.555556   \n",
       "2                  0.333333  ...               0.0         0.111111   \n",
       "3                  0.500000  ...               0.0         0.666667   \n",
       "4                  0.166667  ...               0.0         0.111111   \n",
       "\n",
       "   Educacion_Madre  Ocupacion_Madre  Ocupacion_Padre  Pregunta1  Pregunta2  \\\n",
       "0         1.000000         0.181818         0.090909   0.666667   1.000000   \n",
       "1         0.666667         0.090909         0.545455   0.500000   0.666667   \n",
       "2         0.111111         0.909091         0.818182   0.333333   0.500000   \n",
       "3         0.666667         0.272727         0.272727   0.833333   0.666667   \n",
       "4         0.111111         0.181818         0.181818   0.666667   0.500000   \n",
       "\n",
       "   Pregunta3  Pregunta4  Pregunta5  \n",
       "0   0.833333   1.000000   1.000000  \n",
       "1   0.500000   0.500000   0.500000  \n",
       "2   0.666667   0.833333   0.000000  \n",
       "3   0.666667   0.833333   0.833333  \n",
       "4   0.500000   0.333333   0.000000  \n",
       "\n",
       "[5 rows x 21 columns]"
      ]
     },
     "execution_count": 6,
     "metadata": {},
     "output_type": "execute_result"
    }
   ],
   "source": [
    "data_norm.head()#Normalizado los datos, imprimimos las primeras 5 filas del dataseet"
   ]
  },
  {
   "cell_type": "markdown",
   "metadata": {},
   "source": [
    "Con los datos normalizados podemos realizar la correlación de pearson, el cual nos dara el coeficiente de correlación estandar"
   ]
  },
  {
   "cell_type": "markdown",
   "metadata": {},
   "source": [
    "## Correlación"
   ]
  },
  {
   "cell_type": "markdown",
   "metadata": {},
   "source": [
    "Necesitamos saber la asociacion entre las variables numericas, especificamente evaluar la tendencia (creciente o decreciente) en el conjunto de datos."
   ]
  },
  {
   "cell_type": "code",
   "execution_count": 7,
   "metadata": {},
   "outputs": [
    {
     "data": {
      "text/html": [
       "<div>\n",
       "<style scoped>\n",
       "    .dataframe tbody tr th:only-of-type {\n",
       "        vertical-align: middle;\n",
       "    }\n",
       "\n",
       "    .dataframe tbody tr th {\n",
       "        vertical-align: top;\n",
       "    }\n",
       "\n",
       "    .dataframe thead th {\n",
       "        text-align: right;\n",
       "    }\n",
       "</style>\n",
       "<table border=\"1\" class=\"dataframe\">\n",
       "  <thead>\n",
       "    <tr style=\"text-align: right;\">\n",
       "      <th></th>\n",
       "      <th>Numero_Matricula</th>\n",
       "      <th>Sexo</th>\n",
       "      <th>Edad</th>\n",
       "      <th>Estado_Civil</th>\n",
       "      <th>Valor_Matricula</th>\n",
       "      <th>Vive_Con_Padres</th>\n",
       "      <th>Cabeza_Familia</th>\n",
       "      <th>Num_Personas_A_Cargo</th>\n",
       "      <th>Estrato</th>\n",
       "      <th>Ingreso_Familiar_Mensual</th>\n",
       "      <th>...</th>\n",
       "      <th>Horas_Trabajadas</th>\n",
       "      <th>Educacion_Padre</th>\n",
       "      <th>Educacion_Madre</th>\n",
       "      <th>Ocupacion_Madre</th>\n",
       "      <th>Ocupacion_Padre</th>\n",
       "      <th>Pregunta1</th>\n",
       "      <th>Pregunta2</th>\n",
       "      <th>Pregunta3</th>\n",
       "      <th>Pregunta4</th>\n",
       "      <th>Pregunta5</th>\n",
       "    </tr>\n",
       "  </thead>\n",
       "  <tbody>\n",
       "    <tr>\n",
       "      <th>Numero_Matricula</th>\n",
       "      <td>1.000000</td>\n",
       "      <td>0.047209</td>\n",
       "      <td>0.620090</td>\n",
       "      <td>0.238097</td>\n",
       "      <td>-0.274872</td>\n",
       "      <td>-0.382488</td>\n",
       "      <td>0.221064</td>\n",
       "      <td>0.249317</td>\n",
       "      <td>-0.149152</td>\n",
       "      <td>-0.097200</td>\n",
       "      <td>...</td>\n",
       "      <td>0.461081</td>\n",
       "      <td>-0.195943</td>\n",
       "      <td>-0.067958</td>\n",
       "      <td>0.177496</td>\n",
       "      <td>0.012950</td>\n",
       "      <td>-0.003627</td>\n",
       "      <td>-0.176435</td>\n",
       "      <td>-0.154122</td>\n",
       "      <td>-0.108521</td>\n",
       "      <td>-0.092506</td>\n",
       "    </tr>\n",
       "    <tr>\n",
       "      <th>Sexo</th>\n",
       "      <td>0.047209</td>\n",
       "      <td>1.000000</td>\n",
       "      <td>0.062263</td>\n",
       "      <td>0.173963</td>\n",
       "      <td>-0.027747</td>\n",
       "      <td>-0.143306</td>\n",
       "      <td>0.153821</td>\n",
       "      <td>0.148869</td>\n",
       "      <td>-0.083174</td>\n",
       "      <td>0.055562</td>\n",
       "      <td>...</td>\n",
       "      <td>0.143337</td>\n",
       "      <td>-0.127908</td>\n",
       "      <td>-0.046807</td>\n",
       "      <td>0.003085</td>\n",
       "      <td>-0.098669</td>\n",
       "      <td>-0.020288</td>\n",
       "      <td>-0.035687</td>\n",
       "      <td>-0.035615</td>\n",
       "      <td>0.026771</td>\n",
       "      <td>0.020307</td>\n",
       "    </tr>\n",
       "    <tr>\n",
       "      <th>Edad</th>\n",
       "      <td>0.620090</td>\n",
       "      <td>0.062263</td>\n",
       "      <td>1.000000</td>\n",
       "      <td>0.479187</td>\n",
       "      <td>-0.170273</td>\n",
       "      <td>-0.426813</td>\n",
       "      <td>0.386170</td>\n",
       "      <td>0.385701</td>\n",
       "      <td>-0.295914</td>\n",
       "      <td>-0.235104</td>\n",
       "      <td>...</td>\n",
       "      <td>0.535786</td>\n",
       "      <td>-0.346522</td>\n",
       "      <td>-0.209198</td>\n",
       "      <td>0.314834</td>\n",
       "      <td>0.110301</td>\n",
       "      <td>-0.198927</td>\n",
       "      <td>-0.372432</td>\n",
       "      <td>-0.244467</td>\n",
       "      <td>-0.300485</td>\n",
       "      <td>-0.330756</td>\n",
       "    </tr>\n",
       "    <tr>\n",
       "      <th>Estado_Civil</th>\n",
       "      <td>0.238097</td>\n",
       "      <td>0.173963</td>\n",
       "      <td>0.479187</td>\n",
       "      <td>1.000000</td>\n",
       "      <td>-0.194464</td>\n",
       "      <td>-0.539150</td>\n",
       "      <td>0.411163</td>\n",
       "      <td>0.427669</td>\n",
       "      <td>-0.273892</td>\n",
       "      <td>-0.141374</td>\n",
       "      <td>...</td>\n",
       "      <td>0.481133</td>\n",
       "      <td>-0.301445</td>\n",
       "      <td>-0.259037</td>\n",
       "      <td>0.435499</td>\n",
       "      <td>0.064200</td>\n",
       "      <td>-0.231346</td>\n",
       "      <td>-0.413171</td>\n",
       "      <td>-0.341809</td>\n",
       "      <td>-0.437886</td>\n",
       "      <td>-0.346129</td>\n",
       "    </tr>\n",
       "    <tr>\n",
       "      <th>Valor_Matricula</th>\n",
       "      <td>-0.274872</td>\n",
       "      <td>-0.027747</td>\n",
       "      <td>-0.170273</td>\n",
       "      <td>-0.194464</td>\n",
       "      <td>1.000000</td>\n",
       "      <td>0.308466</td>\n",
       "      <td>-0.109082</td>\n",
       "      <td>-0.129158</td>\n",
       "      <td>0.355197</td>\n",
       "      <td>0.356744</td>\n",
       "      <td>...</td>\n",
       "      <td>-0.185905</td>\n",
       "      <td>0.027221</td>\n",
       "      <td>0.047071</td>\n",
       "      <td>0.010802</td>\n",
       "      <td>0.213368</td>\n",
       "      <td>-0.128375</td>\n",
       "      <td>-0.016275</td>\n",
       "      <td>-0.042753</td>\n",
       "      <td>0.024432</td>\n",
       "      <td>-0.037492</td>\n",
       "    </tr>\n",
       "    <tr>\n",
       "      <th>Vive_Con_Padres</th>\n",
       "      <td>-0.382488</td>\n",
       "      <td>-0.143306</td>\n",
       "      <td>-0.426813</td>\n",
       "      <td>-0.539150</td>\n",
       "      <td>0.308466</td>\n",
       "      <td>1.000000</td>\n",
       "      <td>-0.425532</td>\n",
       "      <td>-0.403643</td>\n",
       "      <td>0.298089</td>\n",
       "      <td>0.239460</td>\n",
       "      <td>...</td>\n",
       "      <td>-0.618329</td>\n",
       "      <td>0.391136</td>\n",
       "      <td>0.281902</td>\n",
       "      <td>-0.391856</td>\n",
       "      <td>-0.120623</td>\n",
       "      <td>0.213028</td>\n",
       "      <td>0.460186</td>\n",
       "      <td>0.399786</td>\n",
       "      <td>0.372292</td>\n",
       "      <td>0.331955</td>\n",
       "    </tr>\n",
       "    <tr>\n",
       "      <th>Cabeza_Familia</th>\n",
       "      <td>0.221064</td>\n",
       "      <td>0.153821</td>\n",
       "      <td>0.386170</td>\n",
       "      <td>0.411163</td>\n",
       "      <td>-0.109082</td>\n",
       "      <td>-0.425532</td>\n",
       "      <td>1.000000</td>\n",
       "      <td>0.930448</td>\n",
       "      <td>-0.243178</td>\n",
       "      <td>-0.145517</td>\n",
       "      <td>...</td>\n",
       "      <td>0.585989</td>\n",
       "      <td>-0.372078</td>\n",
       "      <td>-0.232986</td>\n",
       "      <td>0.366919</td>\n",
       "      <td>0.005384</td>\n",
       "      <td>-0.256708</td>\n",
       "      <td>-0.483475</td>\n",
       "      <td>-0.430561</td>\n",
       "      <td>-0.419771</td>\n",
       "      <td>-0.368439</td>\n",
       "    </tr>\n",
       "    <tr>\n",
       "      <th>Num_Personas_A_Cargo</th>\n",
       "      <td>0.249317</td>\n",
       "      <td>0.148869</td>\n",
       "      <td>0.385701</td>\n",
       "      <td>0.427669</td>\n",
       "      <td>-0.129158</td>\n",
       "      <td>-0.403643</td>\n",
       "      <td>0.930448</td>\n",
       "      <td>1.000000</td>\n",
       "      <td>-0.245460</td>\n",
       "      <td>-0.143924</td>\n",
       "      <td>...</td>\n",
       "      <td>0.584992</td>\n",
       "      <td>-0.334126</td>\n",
       "      <td>-0.230210</td>\n",
       "      <td>0.344023</td>\n",
       "      <td>0.045969</td>\n",
       "      <td>-0.166500</td>\n",
       "      <td>-0.454298</td>\n",
       "      <td>-0.389934</td>\n",
       "      <td>-0.341649</td>\n",
       "      <td>-0.319528</td>\n",
       "    </tr>\n",
       "    <tr>\n",
       "      <th>Estrato</th>\n",
       "      <td>-0.149152</td>\n",
       "      <td>-0.083174</td>\n",
       "      <td>-0.295914</td>\n",
       "      <td>-0.273892</td>\n",
       "      <td>0.355197</td>\n",
       "      <td>0.298089</td>\n",
       "      <td>-0.243178</td>\n",
       "      <td>-0.245460</td>\n",
       "      <td>1.000000</td>\n",
       "      <td>0.789800</td>\n",
       "      <td>...</td>\n",
       "      <td>-0.382517</td>\n",
       "      <td>0.477610</td>\n",
       "      <td>0.525215</td>\n",
       "      <td>-0.337994</td>\n",
       "      <td>-0.245912</td>\n",
       "      <td>0.330829</td>\n",
       "      <td>0.346758</td>\n",
       "      <td>0.228372</td>\n",
       "      <td>0.252426</td>\n",
       "      <td>0.280334</td>\n",
       "    </tr>\n",
       "    <tr>\n",
       "      <th>Ingreso_Familiar_Mensual</th>\n",
       "      <td>-0.097200</td>\n",
       "      <td>0.055562</td>\n",
       "      <td>-0.235104</td>\n",
       "      <td>-0.141374</td>\n",
       "      <td>0.356744</td>\n",
       "      <td>0.239460</td>\n",
       "      <td>-0.145517</td>\n",
       "      <td>-0.143924</td>\n",
       "      <td>0.789800</td>\n",
       "      <td>1.000000</td>\n",
       "      <td>...</td>\n",
       "      <td>-0.288286</td>\n",
       "      <td>0.492935</td>\n",
       "      <td>0.467754</td>\n",
       "      <td>-0.310629</td>\n",
       "      <td>-0.348624</td>\n",
       "      <td>0.326160</td>\n",
       "      <td>0.342040</td>\n",
       "      <td>0.230719</td>\n",
       "      <td>0.246489</td>\n",
       "      <td>0.294899</td>\n",
       "    </tr>\n",
       "    <tr>\n",
       "      <th>Trabaja_Actualmente</th>\n",
       "      <td>0.413104</td>\n",
       "      <td>0.120911</td>\n",
       "      <td>0.527421</td>\n",
       "      <td>0.475696</td>\n",
       "      <td>-0.168509</td>\n",
       "      <td>-0.596006</td>\n",
       "      <td>0.557412</td>\n",
       "      <td>0.531434</td>\n",
       "      <td>-0.376002</td>\n",
       "      <td>-0.287396</td>\n",
       "      <td>...</td>\n",
       "      <td>0.916096</td>\n",
       "      <td>-0.438266</td>\n",
       "      <td>-0.320494</td>\n",
       "      <td>0.460667</td>\n",
       "      <td>0.181332</td>\n",
       "      <td>-0.327289</td>\n",
       "      <td>-0.509103</td>\n",
       "      <td>-0.460998</td>\n",
       "      <td>-0.347230</td>\n",
       "      <td>-0.355420</td>\n",
       "    </tr>\n",
       "    <tr>\n",
       "      <th>Horas_Trabajadas</th>\n",
       "      <td>0.461081</td>\n",
       "      <td>0.143337</td>\n",
       "      <td>0.535786</td>\n",
       "      <td>0.481133</td>\n",
       "      <td>-0.185905</td>\n",
       "      <td>-0.618329</td>\n",
       "      <td>0.585989</td>\n",
       "      <td>0.584992</td>\n",
       "      <td>-0.382517</td>\n",
       "      <td>-0.288286</td>\n",
       "      <td>...</td>\n",
       "      <td>1.000000</td>\n",
       "      <td>-0.422495</td>\n",
       "      <td>-0.316813</td>\n",
       "      <td>0.459105</td>\n",
       "      <td>0.187663</td>\n",
       "      <td>-0.267559</td>\n",
       "      <td>-0.491586</td>\n",
       "      <td>-0.445498</td>\n",
       "      <td>-0.355535</td>\n",
       "      <td>-0.356903</td>\n",
       "    </tr>\n",
       "    <tr>\n",
       "      <th>Educacion_Padre</th>\n",
       "      <td>-0.195943</td>\n",
       "      <td>-0.127908</td>\n",
       "      <td>-0.346522</td>\n",
       "      <td>-0.301445</td>\n",
       "      <td>0.027221</td>\n",
       "      <td>0.391136</td>\n",
       "      <td>-0.372078</td>\n",
       "      <td>-0.334126</td>\n",
       "      <td>0.477610</td>\n",
       "      <td>0.492935</td>\n",
       "      <td>...</td>\n",
       "      <td>-0.422495</td>\n",
       "      <td>1.000000</td>\n",
       "      <td>0.538469</td>\n",
       "      <td>-0.514019</td>\n",
       "      <td>-0.415997</td>\n",
       "      <td>0.469936</td>\n",
       "      <td>0.575189</td>\n",
       "      <td>0.477611</td>\n",
       "      <td>0.419194</td>\n",
       "      <td>0.463000</td>\n",
       "    </tr>\n",
       "    <tr>\n",
       "      <th>Educacion_Madre</th>\n",
       "      <td>-0.067958</td>\n",
       "      <td>-0.046807</td>\n",
       "      <td>-0.209198</td>\n",
       "      <td>-0.259037</td>\n",
       "      <td>0.047071</td>\n",
       "      <td>0.281902</td>\n",
       "      <td>-0.232986</td>\n",
       "      <td>-0.230210</td>\n",
       "      <td>0.525215</td>\n",
       "      <td>0.467754</td>\n",
       "      <td>...</td>\n",
       "      <td>-0.316813</td>\n",
       "      <td>0.538469</td>\n",
       "      <td>1.000000</td>\n",
       "      <td>-0.602271</td>\n",
       "      <td>-0.336664</td>\n",
       "      <td>0.529883</td>\n",
       "      <td>0.475318</td>\n",
       "      <td>0.463056</td>\n",
       "      <td>0.420199</td>\n",
       "      <td>0.434106</td>\n",
       "    </tr>\n",
       "    <tr>\n",
       "      <th>Ocupacion_Madre</th>\n",
       "      <td>0.177496</td>\n",
       "      <td>0.003085</td>\n",
       "      <td>0.314834</td>\n",
       "      <td>0.435499</td>\n",
       "      <td>0.010802</td>\n",
       "      <td>-0.391856</td>\n",
       "      <td>0.366919</td>\n",
       "      <td>0.344023</td>\n",
       "      <td>-0.337994</td>\n",
       "      <td>-0.310629</td>\n",
       "      <td>...</td>\n",
       "      <td>0.459105</td>\n",
       "      <td>-0.514019</td>\n",
       "      <td>-0.602271</td>\n",
       "      <td>1.000000</td>\n",
       "      <td>0.408129</td>\n",
       "      <td>-0.572579</td>\n",
       "      <td>-0.592955</td>\n",
       "      <td>-0.587870</td>\n",
       "      <td>-0.570678</td>\n",
       "      <td>-0.502152</td>\n",
       "    </tr>\n",
       "    <tr>\n",
       "      <th>Ocupacion_Padre</th>\n",
       "      <td>0.012950</td>\n",
       "      <td>-0.098669</td>\n",
       "      <td>0.110301</td>\n",
       "      <td>0.064200</td>\n",
       "      <td>0.213368</td>\n",
       "      <td>-0.120623</td>\n",
       "      <td>0.005384</td>\n",
       "      <td>0.045969</td>\n",
       "      <td>-0.245912</td>\n",
       "      <td>-0.348624</td>\n",
       "      <td>...</td>\n",
       "      <td>0.187663</td>\n",
       "      <td>-0.415997</td>\n",
       "      <td>-0.336664</td>\n",
       "      <td>0.408129</td>\n",
       "      <td>1.000000</td>\n",
       "      <td>-0.317332</td>\n",
       "      <td>-0.341253</td>\n",
       "      <td>-0.303419</td>\n",
       "      <td>-0.228797</td>\n",
       "      <td>-0.342703</td>\n",
       "    </tr>\n",
       "    <tr>\n",
       "      <th>Pregunta1</th>\n",
       "      <td>-0.003627</td>\n",
       "      <td>-0.020288</td>\n",
       "      <td>-0.198927</td>\n",
       "      <td>-0.231346</td>\n",
       "      <td>-0.128375</td>\n",
       "      <td>0.213028</td>\n",
       "      <td>-0.256708</td>\n",
       "      <td>-0.166500</td>\n",
       "      <td>0.330829</td>\n",
       "      <td>0.326160</td>\n",
       "      <td>...</td>\n",
       "      <td>-0.267559</td>\n",
       "      <td>0.469936</td>\n",
       "      <td>0.529883</td>\n",
       "      <td>-0.572579</td>\n",
       "      <td>-0.317332</td>\n",
       "      <td>1.000000</td>\n",
       "      <td>0.620112</td>\n",
       "      <td>0.670736</td>\n",
       "      <td>0.579173</td>\n",
       "      <td>0.567618</td>\n",
       "    </tr>\n",
       "    <tr>\n",
       "      <th>Pregunta2</th>\n",
       "      <td>-0.176435</td>\n",
       "      <td>-0.035687</td>\n",
       "      <td>-0.372432</td>\n",
       "      <td>-0.413171</td>\n",
       "      <td>-0.016275</td>\n",
       "      <td>0.460186</td>\n",
       "      <td>-0.483475</td>\n",
       "      <td>-0.454298</td>\n",
       "      <td>0.346758</td>\n",
       "      <td>0.342040</td>\n",
       "      <td>...</td>\n",
       "      <td>-0.491586</td>\n",
       "      <td>0.575189</td>\n",
       "      <td>0.475318</td>\n",
       "      <td>-0.592955</td>\n",
       "      <td>-0.341253</td>\n",
       "      <td>0.620112</td>\n",
       "      <td>1.000000</td>\n",
       "      <td>0.790901</td>\n",
       "      <td>0.598494</td>\n",
       "      <td>0.615861</td>\n",
       "    </tr>\n",
       "    <tr>\n",
       "      <th>Pregunta3</th>\n",
       "      <td>-0.154122</td>\n",
       "      <td>-0.035615</td>\n",
       "      <td>-0.244467</td>\n",
       "      <td>-0.341809</td>\n",
       "      <td>-0.042753</td>\n",
       "      <td>0.399786</td>\n",
       "      <td>-0.430561</td>\n",
       "      <td>-0.389934</td>\n",
       "      <td>0.228372</td>\n",
       "      <td>0.230719</td>\n",
       "      <td>...</td>\n",
       "      <td>-0.445498</td>\n",
       "      <td>0.477611</td>\n",
       "      <td>0.463056</td>\n",
       "      <td>-0.587870</td>\n",
       "      <td>-0.303419</td>\n",
       "      <td>0.670736</td>\n",
       "      <td>0.790901</td>\n",
       "      <td>1.000000</td>\n",
       "      <td>0.713718</td>\n",
       "      <td>0.650631</td>\n",
       "    </tr>\n",
       "    <tr>\n",
       "      <th>Pregunta4</th>\n",
       "      <td>-0.108521</td>\n",
       "      <td>0.026771</td>\n",
       "      <td>-0.300485</td>\n",
       "      <td>-0.437886</td>\n",
       "      <td>0.024432</td>\n",
       "      <td>0.372292</td>\n",
       "      <td>-0.419771</td>\n",
       "      <td>-0.341649</td>\n",
       "      <td>0.252426</td>\n",
       "      <td>0.246489</td>\n",
       "      <td>...</td>\n",
       "      <td>-0.355535</td>\n",
       "      <td>0.419194</td>\n",
       "      <td>0.420199</td>\n",
       "      <td>-0.570678</td>\n",
       "      <td>-0.228797</td>\n",
       "      <td>0.579173</td>\n",
       "      <td>0.598494</td>\n",
       "      <td>0.713718</td>\n",
       "      <td>1.000000</td>\n",
       "      <td>0.759572</td>\n",
       "    </tr>\n",
       "    <tr>\n",
       "      <th>Pregunta5</th>\n",
       "      <td>-0.092506</td>\n",
       "      <td>0.020307</td>\n",
       "      <td>-0.330756</td>\n",
       "      <td>-0.346129</td>\n",
       "      <td>-0.037492</td>\n",
       "      <td>0.331955</td>\n",
       "      <td>-0.368439</td>\n",
       "      <td>-0.319528</td>\n",
       "      <td>0.280334</td>\n",
       "      <td>0.294899</td>\n",
       "      <td>...</td>\n",
       "      <td>-0.356903</td>\n",
       "      <td>0.463000</td>\n",
       "      <td>0.434106</td>\n",
       "      <td>-0.502152</td>\n",
       "      <td>-0.342703</td>\n",
       "      <td>0.567618</td>\n",
       "      <td>0.615861</td>\n",
       "      <td>0.650631</td>\n",
       "      <td>0.759572</td>\n",
       "      <td>1.000000</td>\n",
       "    </tr>\n",
       "  </tbody>\n",
       "</table>\n",
       "<p>21 rows × 21 columns</p>\n",
       "</div>"
      ],
      "text/plain": [
       "                          Numero_Matricula      Sexo      Edad  Estado_Civil  \\\n",
       "Numero_Matricula                  1.000000  0.047209  0.620090      0.238097   \n",
       "Sexo                              0.047209  1.000000  0.062263      0.173963   \n",
       "Edad                              0.620090  0.062263  1.000000      0.479187   \n",
       "Estado_Civil                      0.238097  0.173963  0.479187      1.000000   \n",
       "Valor_Matricula                  -0.274872 -0.027747 -0.170273     -0.194464   \n",
       "Vive_Con_Padres                  -0.382488 -0.143306 -0.426813     -0.539150   \n",
       "Cabeza_Familia                    0.221064  0.153821  0.386170      0.411163   \n",
       "Num_Personas_A_Cargo              0.249317  0.148869  0.385701      0.427669   \n",
       "Estrato                          -0.149152 -0.083174 -0.295914     -0.273892   \n",
       "Ingreso_Familiar_Mensual         -0.097200  0.055562 -0.235104     -0.141374   \n",
       "Trabaja_Actualmente               0.413104  0.120911  0.527421      0.475696   \n",
       "Horas_Trabajadas                  0.461081  0.143337  0.535786      0.481133   \n",
       "Educacion_Padre                  -0.195943 -0.127908 -0.346522     -0.301445   \n",
       "Educacion_Madre                  -0.067958 -0.046807 -0.209198     -0.259037   \n",
       "Ocupacion_Madre                   0.177496  0.003085  0.314834      0.435499   \n",
       "Ocupacion_Padre                   0.012950 -0.098669  0.110301      0.064200   \n",
       "Pregunta1                        -0.003627 -0.020288 -0.198927     -0.231346   \n",
       "Pregunta2                        -0.176435 -0.035687 -0.372432     -0.413171   \n",
       "Pregunta3                        -0.154122 -0.035615 -0.244467     -0.341809   \n",
       "Pregunta4                        -0.108521  0.026771 -0.300485     -0.437886   \n",
       "Pregunta5                        -0.092506  0.020307 -0.330756     -0.346129   \n",
       "\n",
       "                          Valor_Matricula  Vive_Con_Padres  Cabeza_Familia  \\\n",
       "Numero_Matricula                -0.274872        -0.382488        0.221064   \n",
       "Sexo                            -0.027747        -0.143306        0.153821   \n",
       "Edad                            -0.170273        -0.426813        0.386170   \n",
       "Estado_Civil                    -0.194464        -0.539150        0.411163   \n",
       "Valor_Matricula                  1.000000         0.308466       -0.109082   \n",
       "Vive_Con_Padres                  0.308466         1.000000       -0.425532   \n",
       "Cabeza_Familia                  -0.109082        -0.425532        1.000000   \n",
       "Num_Personas_A_Cargo            -0.129158        -0.403643        0.930448   \n",
       "Estrato                          0.355197         0.298089       -0.243178   \n",
       "Ingreso_Familiar_Mensual         0.356744         0.239460       -0.145517   \n",
       "Trabaja_Actualmente             -0.168509        -0.596006        0.557412   \n",
       "Horas_Trabajadas                -0.185905        -0.618329        0.585989   \n",
       "Educacion_Padre                  0.027221         0.391136       -0.372078   \n",
       "Educacion_Madre                  0.047071         0.281902       -0.232986   \n",
       "Ocupacion_Madre                  0.010802        -0.391856        0.366919   \n",
       "Ocupacion_Padre                  0.213368        -0.120623        0.005384   \n",
       "Pregunta1                       -0.128375         0.213028       -0.256708   \n",
       "Pregunta2                       -0.016275         0.460186       -0.483475   \n",
       "Pregunta3                       -0.042753         0.399786       -0.430561   \n",
       "Pregunta4                        0.024432         0.372292       -0.419771   \n",
       "Pregunta5                       -0.037492         0.331955       -0.368439   \n",
       "\n",
       "                          Num_Personas_A_Cargo   Estrato  \\\n",
       "Numero_Matricula                      0.249317 -0.149152   \n",
       "Sexo                                  0.148869 -0.083174   \n",
       "Edad                                  0.385701 -0.295914   \n",
       "Estado_Civil                          0.427669 -0.273892   \n",
       "Valor_Matricula                      -0.129158  0.355197   \n",
       "Vive_Con_Padres                      -0.403643  0.298089   \n",
       "Cabeza_Familia                        0.930448 -0.243178   \n",
       "Num_Personas_A_Cargo                  1.000000 -0.245460   \n",
       "Estrato                              -0.245460  1.000000   \n",
       "Ingreso_Familiar_Mensual             -0.143924  0.789800   \n",
       "Trabaja_Actualmente                   0.531434 -0.376002   \n",
       "Horas_Trabajadas                      0.584992 -0.382517   \n",
       "Educacion_Padre                      -0.334126  0.477610   \n",
       "Educacion_Madre                      -0.230210  0.525215   \n",
       "Ocupacion_Madre                       0.344023 -0.337994   \n",
       "Ocupacion_Padre                       0.045969 -0.245912   \n",
       "Pregunta1                            -0.166500  0.330829   \n",
       "Pregunta2                            -0.454298  0.346758   \n",
       "Pregunta3                            -0.389934  0.228372   \n",
       "Pregunta4                            -0.341649  0.252426   \n",
       "Pregunta5                            -0.319528  0.280334   \n",
       "\n",
       "                          Ingreso_Familiar_Mensual  ...  Horas_Trabajadas  \\\n",
       "Numero_Matricula                         -0.097200  ...          0.461081   \n",
       "Sexo                                      0.055562  ...          0.143337   \n",
       "Edad                                     -0.235104  ...          0.535786   \n",
       "Estado_Civil                             -0.141374  ...          0.481133   \n",
       "Valor_Matricula                           0.356744  ...         -0.185905   \n",
       "Vive_Con_Padres                           0.239460  ...         -0.618329   \n",
       "Cabeza_Familia                           -0.145517  ...          0.585989   \n",
       "Num_Personas_A_Cargo                     -0.143924  ...          0.584992   \n",
       "Estrato                                   0.789800  ...         -0.382517   \n",
       "Ingreso_Familiar_Mensual                  1.000000  ...         -0.288286   \n",
       "Trabaja_Actualmente                      -0.287396  ...          0.916096   \n",
       "Horas_Trabajadas                         -0.288286  ...          1.000000   \n",
       "Educacion_Padre                           0.492935  ...         -0.422495   \n",
       "Educacion_Madre                           0.467754  ...         -0.316813   \n",
       "Ocupacion_Madre                          -0.310629  ...          0.459105   \n",
       "Ocupacion_Padre                          -0.348624  ...          0.187663   \n",
       "Pregunta1                                 0.326160  ...         -0.267559   \n",
       "Pregunta2                                 0.342040  ...         -0.491586   \n",
       "Pregunta3                                 0.230719  ...         -0.445498   \n",
       "Pregunta4                                 0.246489  ...         -0.355535   \n",
       "Pregunta5                                 0.294899  ...         -0.356903   \n",
       "\n",
       "                          Educacion_Padre  Educacion_Madre  Ocupacion_Madre  \\\n",
       "Numero_Matricula                -0.195943        -0.067958         0.177496   \n",
       "Sexo                            -0.127908        -0.046807         0.003085   \n",
       "Edad                            -0.346522        -0.209198         0.314834   \n",
       "Estado_Civil                    -0.301445        -0.259037         0.435499   \n",
       "Valor_Matricula                  0.027221         0.047071         0.010802   \n",
       "Vive_Con_Padres                  0.391136         0.281902        -0.391856   \n",
       "Cabeza_Familia                  -0.372078        -0.232986         0.366919   \n",
       "Num_Personas_A_Cargo            -0.334126        -0.230210         0.344023   \n",
       "Estrato                          0.477610         0.525215        -0.337994   \n",
       "Ingreso_Familiar_Mensual         0.492935         0.467754        -0.310629   \n",
       "Trabaja_Actualmente             -0.438266        -0.320494         0.460667   \n",
       "Horas_Trabajadas                -0.422495        -0.316813         0.459105   \n",
       "Educacion_Padre                  1.000000         0.538469        -0.514019   \n",
       "Educacion_Madre                  0.538469         1.000000        -0.602271   \n",
       "Ocupacion_Madre                 -0.514019        -0.602271         1.000000   \n",
       "Ocupacion_Padre                 -0.415997        -0.336664         0.408129   \n",
       "Pregunta1                        0.469936         0.529883        -0.572579   \n",
       "Pregunta2                        0.575189         0.475318        -0.592955   \n",
       "Pregunta3                        0.477611         0.463056        -0.587870   \n",
       "Pregunta4                        0.419194         0.420199        -0.570678   \n",
       "Pregunta5                        0.463000         0.434106        -0.502152   \n",
       "\n",
       "                          Ocupacion_Padre  Pregunta1  Pregunta2  Pregunta3  \\\n",
       "Numero_Matricula                 0.012950  -0.003627  -0.176435  -0.154122   \n",
       "Sexo                            -0.098669  -0.020288  -0.035687  -0.035615   \n",
       "Edad                             0.110301  -0.198927  -0.372432  -0.244467   \n",
       "Estado_Civil                     0.064200  -0.231346  -0.413171  -0.341809   \n",
       "Valor_Matricula                  0.213368  -0.128375  -0.016275  -0.042753   \n",
       "Vive_Con_Padres                 -0.120623   0.213028   0.460186   0.399786   \n",
       "Cabeza_Familia                   0.005384  -0.256708  -0.483475  -0.430561   \n",
       "Num_Personas_A_Cargo             0.045969  -0.166500  -0.454298  -0.389934   \n",
       "Estrato                         -0.245912   0.330829   0.346758   0.228372   \n",
       "Ingreso_Familiar_Mensual        -0.348624   0.326160   0.342040   0.230719   \n",
       "Trabaja_Actualmente              0.181332  -0.327289  -0.509103  -0.460998   \n",
       "Horas_Trabajadas                 0.187663  -0.267559  -0.491586  -0.445498   \n",
       "Educacion_Padre                 -0.415997   0.469936   0.575189   0.477611   \n",
       "Educacion_Madre                 -0.336664   0.529883   0.475318   0.463056   \n",
       "Ocupacion_Madre                  0.408129  -0.572579  -0.592955  -0.587870   \n",
       "Ocupacion_Padre                  1.000000  -0.317332  -0.341253  -0.303419   \n",
       "Pregunta1                       -0.317332   1.000000   0.620112   0.670736   \n",
       "Pregunta2                       -0.341253   0.620112   1.000000   0.790901   \n",
       "Pregunta3                       -0.303419   0.670736   0.790901   1.000000   \n",
       "Pregunta4                       -0.228797   0.579173   0.598494   0.713718   \n",
       "Pregunta5                       -0.342703   0.567618   0.615861   0.650631   \n",
       "\n",
       "                          Pregunta4  Pregunta5  \n",
       "Numero_Matricula          -0.108521  -0.092506  \n",
       "Sexo                       0.026771   0.020307  \n",
       "Edad                      -0.300485  -0.330756  \n",
       "Estado_Civil              -0.437886  -0.346129  \n",
       "Valor_Matricula            0.024432  -0.037492  \n",
       "Vive_Con_Padres            0.372292   0.331955  \n",
       "Cabeza_Familia            -0.419771  -0.368439  \n",
       "Num_Personas_A_Cargo      -0.341649  -0.319528  \n",
       "Estrato                    0.252426   0.280334  \n",
       "Ingreso_Familiar_Mensual   0.246489   0.294899  \n",
       "Trabaja_Actualmente       -0.347230  -0.355420  \n",
       "Horas_Trabajadas          -0.355535  -0.356903  \n",
       "Educacion_Padre            0.419194   0.463000  \n",
       "Educacion_Madre            0.420199   0.434106  \n",
       "Ocupacion_Madre           -0.570678  -0.502152  \n",
       "Ocupacion_Padre           -0.228797  -0.342703  \n",
       "Pregunta1                  0.579173   0.567618  \n",
       "Pregunta2                  0.598494   0.615861  \n",
       "Pregunta3                  0.713718   0.650631  \n",
       "Pregunta4                  1.000000   0.759572  \n",
       "Pregunta5                  0.759572   1.000000  \n",
       "\n",
       "[21 rows x 21 columns]"
      ]
     },
     "execution_count": 7,
     "metadata": {},
     "output_type": "execute_result"
    }
   ],
   "source": [
    "data_corr = data_norm.corr(method='pearson') #data_corr obtendra la correlación por el metodo de pearson del dataset\n",
    "| #Se imprime la tabla de correlación"
   ]
  },
  {
   "cell_type": "markdown",
   "metadata": {},
   "source": [
    "En la tabla se observa su diagonal principal con solo 1.000, esto se debe a la correlacion de la variable consigo misma, las variables que importan a partir de la tabla de correlacion son aquellas que estan por encima del 30%. Para un analisis mejor de esta tabla se realizara una grafica de calor para mostrar aquellos datos entre -0.6 y 0.9."
   ]
  },
  {
   "cell_type": "code",
   "execution_count": 8,
   "metadata": {
    "scrolled": false
   },
   "outputs": [
    {
     "data": {
      "text/plain": [
       "<matplotlib.axes._subplots.AxesSubplot at 0x7f96bc200a10>"
      ]
     },
     "execution_count": 8,
     "metadata": {},
     "output_type": "execute_result"
    },
    {
     "data": {
      "image/png": "[encoded data removed]",
      "text/plain": [
       "<Figure size 1296x576 with 2 Axes>"
      ]
     },
     "metadata": {
      "needs_background": "light"
     },
     "output_type": "display_data"
    }
   ],
   "source": [
    "plt.figure(figsize=(18,8)) #Asignamos el tamaño del grafico\n",
    "sns.heatmap(data_corr,\n",
    "            xticklabels = data_corr.columns,\n",
    "            yticklabels = data_corr.columns,\n",
    "            cmap='coolwarm'\n",
    "           ) #realizamos nuestro grafico de calor a partir de el paquete seaborn"
   ]
  },
  {
   "cell_type": "markdown",
   "metadata": {},
   "source": [
    "## Evaluacion de Confiabilidad de la Encuesta\n",
    "Conceptualmente la fiabilidad refleja hasta qué punto las puntuaciones percibidas por los estudiantes a través de las respuestas están relacionadas con las puntuaciones, esto es, el grado en que las mediciones están libres de la desviación producida por los errores casuales (valores aleatorios). En definitiva, la fiabilidad garantiza que la escala siempre mide lo mismo.\n",
    "\n",
    "Para la valoracion se toma la muestra de 933 estudiantes y se aplicara el estadístico Alpha de Cronbach."
   ]
  },
  {
   "cell_type": "code",
   "execution_count": 33,
   "metadata": {},
   "outputs": [
    {
     "data": {
      "text/plain": [
       "0.6868445019978058"
      ]
     },
     "execution_count": 33,
     "metadata": {},
     "output_type": "execute_result"
    }
   ],
   "source": [
    "import numpy as np\n",
    "\n",
    "def svar(X):\n",
    "    n = float(len(X))#obtenemos la cantidad de datos\n",
    "    #obtenemos la variacion de un conjunto unidimensional de datos\n",
    "    svar=(sum([(x-np.mean(X))**2 for x in X]) / n)* n/(n-1.)\n",
    "    return svar\n",
    "\n",
    "def CronbachAlpha2(itemscores):#Los Parametros de entrada son todas las columnas con sus datos\n",
    "    itemvars = [svar(item) for item in itemscores] #generamos la varianza de cada columna\n",
    "    tscores = [0] * len(itemscores[0]) #obtenemos el puntaje t a partir de la cantidad de filas\n",
    "    #el objetivo de tscores es obtener el promedio de tolas las covarianzas entre elementos\n",
    "    for item in itemscores:\n",
    "       for i in range(len(item)):\n",
    "          tscores[i]+= item[i]\n",
    "    nitems = len(itemscores)\n",
    "    #print \"total scores=\", tscores, 'number of items=', nitems\n",
    "    #Formula de alfa de cronbach\n",
    "    Calpha= nitems/(nitems-1.) * (1-sum(itemvars)/ svar(tscores))#-------\n",
    "\n",
    "    return Calpha\n",
    "\n",
    "CronbachAlpha2([data_norm['Numero_Matricula'],data_norm['Sexo'], data_norm['Edad'], data_norm['Estado_Civil'],\n",
    "               data_norm['Valor_Matricula'], data_norm['Vive_Con_Padres'], data_norm['Cabeza_Familia'],\n",
    "               data_norm['Num_Personas_A_Cargo'], data_norm['Estrato'], data_norm['Ingreso_Familiar_Mensual'],\n",
    "               data_norm['Trabaja_Actualmente'], data_norm['Horas_Trabajadas'], data_norm['Educacion_Padre'],\n",
    "               data_norm['Educacion_Madre'], data_norm['Ocupacion_Madre'], data_norm['Ocupacion_Padre'], \n",
    "               data_norm['Pregunta1'], data_norm['Pregunta2'], data_norm['Pregunta3'],data_norm['Pregunta4'],\n",
    "               data_norm['Pregunta5']\n",
    "               ])"
   ]
  },
  {
   "cell_type": "markdown",
   "metadata": {},
   "source": [
    "# Box-Plot e Intervalo de Confianza"
   ]
  },
  {
   "cell_type": "markdown",
   "metadata": {},
   "source": [
    "Un Box-Plot ayuda representar gráficamente una serie de datos numéricos a través de sus cuartiles. De esta manera, el Box-Plot muestra a simple vista la mediana y los cuartiles de los datos, también representando los valores atípicos de estos."
   ]
  },
  {
   "cell_type": "markdown",
   "metadata": {},
   "source": [
    "## Intervalo de Confianza\n",
    "Para generar la prueba Tstudent y ver el el grado de confianza a fin de saber si en las variables se genera alguna varianza y tomar en cuenta dichas variables para el modelo, se toma en cuenta la siguiente formula."
   ]
  },
  {
   "cell_type": "code",
   "execution_count": 35,
   "metadata": {},
   "outputs": [
    {
     "data": {
      "image/png": "[encoded data removed]",
      "text/plain": [
       "<Figure size 3600x3600 with 1 Axes>"
      ]
     },
     "metadata": {
      "needs_background": "light"
     },
     "output_type": "display_data"
    }
   ],
   "source": [
    "import matplotlib.image as mpimg #importamos la libreria de matplotlib.image para cargar las imagenes de ejemplo\n",
    "img = mpimg.imread('intervalo_confianza.png')#la variable img obtendra la imagen de entrada\n",
    "plt.figure(figsize=(50,50))#Asignamos tamaño a la imagen\n",
    "plt.imshow(img) #Cargamos la imagen a mostrar\n",
    "plt.show() #Mostramos la imagen de intervalo de confianza"
   ]
  },
  {
   "cell_type": "markdown",
   "metadata": {},
   "source": [
    "### SWLS segun el sexo\n",
    "La variable sexo en nuestra tabla de correlacion fue la que menos mostro tendencia respecto a los demas datos, por ende, se le realizara la prueba Tstudent para observar su varianza."
   ]
  },
  {
   "cell_type": "code",
   "execution_count": 36,
   "metadata": {
    "scrolled": false
   },
   "outputs": [
    {
     "data": {
      "text/plain": [
       "Text(0.5,1,'SWLS segun el sexo')"
      ]
     },
     "execution_count": 36,
     "metadata": {},
     "output_type": "execute_result"
    },
    {
     "data": {
      "image/png": "[encoded data removed]",
      "text/plain": [
       "<Figure size 1296x576 with 1 Axes>"
      ]
     },
     "metadata": {
      "needs_background": "light"
     },
     "output_type": "display_data"
    }
   ],
   "source": [
    "f, ax = plt.subplots(figsize = (18, 8)) #Asignamos el tamaño del grafico\n",
    "sns.boxplot(x='Sexo', y='Rango_SWLS', data=data, ax=ax, palette='Set1') #generamos un grafico de boxplot\n",
    "plt.title('SWLS segun el sexo') #le asignamos un titulo al grafico"
   ]
  },
  {
   "cell_type": "markdown",
   "metadata": {},
   "source": [
    "Se puede observar graficamente que el comportamiento de lo sexos son similares, tanto en sus variaciones como media."
   ]
  },
  {
   "cell_type": "code",
   "execution_count": 37,
   "metadata": {},
   "outputs": [
    {
     "name": "stdout",
     "output_type": "stream",
     "text": [
      "1er grupo Femenino\n",
      "('n1: ', 541)\n",
      "('m1: ', 20.131238447319777)\n",
      "('std1: ', 7.923673165039742)\n",
      "('Puntaje Total, IC-Femenino ', 19.462046816478544, ' - ', 20.80043007816101)\n",
      "\n",
      "2er grupo Masculino\n",
      "('n2: ', 392)\n",
      "('m2: ', 19.96938775510204)\n",
      "('std2: ', 8.461380999703977)\n",
      "('Puntaje Total, IC-Masculino: ', 19.12916835465732, ' - ', 20.80960715554676)\n",
      "('\\nTprueba: ', 0.2961433450965228)\n",
      "('pvalue: ', 0.7671965970117193)\n"
     ]
    }
   ],
   "source": [
    "#Generamos los grupos a comparar\n",
    "df1 = data.Suma_Total[data.Sexo == 0] #Mujeres\n",
    "df2 = data.Suma_Total[data.Sexo == 1] #Hombres\n",
    "#Numero de pruebas para cada categoria en la variable: n\n",
    "#Promedio de cada categoria en la variable: m\n",
    "#Variacion estandar de cada categoria en la variable: std \n",
    "n1 = len(df1)\n",
    "n2 = len(df2)\n",
    "m1 = df1.mean()\n",
    "m2 = df2.mean()\n",
    "std1 = df1.std()\n",
    "std2 = df2.std()\n",
    "\n",
    "#Nuestra confianza de los datos sera del 0.95 = 95%\n",
    "confidence = 0.95\n",
    "#varianza de los datos\n",
    "h1 = std1 / math.sqrt(n1) * stats.t.ppf((1+confidence)/2, n1 - 1)\n",
    "h2 = std2 / math.sqrt(n2) * stats.t.ppf((1+confidence)/2, n2 - 1)\n",
    "\n",
    "#tPRUEBA Y Pvalue\n",
    "tprueba, pvalue = stats.ttest_ind(df1, df2, equal_var = False)\n",
    "\n",
    "#IC = INTERVALOS DE CONFIANZA\n",
    "#Grupos generados\n",
    "print('1er grupo Femenino')\n",
    "print('n1: ',n1)\n",
    "print('m1: ',m1)\n",
    "print('std1: ',std1)\n",
    "print('Puntaje Total, IC-Femenino ', m1 - h1, ' - ', m1 + h1) \n",
    "\n",
    "print('\\n2er grupo Masculino')\n",
    "print('n2: ',n2)\n",
    "print('m2: ',m2)\n",
    "print('std2: ',std2)\n",
    "print('Puntaje Total, IC-Masculino: ', m2 - h2, ' - ', m2 + h2)\n",
    "\n",
    "#Si los intervalos se traslapan signfica que no hay mucha variacion en los datos de la variable\n",
    "#con respecto al resultado, en ese caso se omite la variable para el modelo\n",
    "\n",
    "print('\\nTprueba: ', tprueba)\n",
    "print('pvalue: ',pvalue)\n"
   ]
  },
  {
   "cell_type": "markdown",
   "metadata": {},
   "source": [
    "Como el Pvalue obtenido es mayor al 5% (0.05), se acepta la hipotesis nula donde se afirma que los parametros no tienen relacion entre si, por ende, no se debe tomar en cuenta la variable sexo para el modelo."
   ]
  },
  {
   "cell_type": "markdown",
   "metadata": {},
   "source": [
    "### SWLS segun el numero de matricula"
   ]
  },
  {
   "cell_type": "code",
   "execution_count": 38,
   "metadata": {},
   "outputs": [
    {
     "data": {
      "text/plain": [
       "Text(0.5,1,'SWLS Numero de Matricula')"
      ]
     },
     "execution_count": 38,
     "metadata": {},
     "output_type": "execute_result"
    },
    {
     "data": {
      "image/png": "[encoded data removed]",
      "text/plain": [
       "<Figure size 1296x576 with 1 Axes>"
      ]
     },
     "metadata": {
      "needs_background": "light"
     },
     "output_type": "display_data"
    }
   ],
   "source": [
    "f, ax = plt.subplots(figsize = (18, 8))#Asignamos el tamaño del grafico\n",
    "sns.boxplot(x='Numero_Matricula', y='Rango_SWLS', data=data, ax=ax, palette='Set1') #Generamos un grafico de boxplot\n",
    "plt.title('SWLS Numero de Matricula') #Asignamos un titulo a nuestro grafico"
   ]
  },
  {
   "cell_type": "markdown",
   "metadata": {},
   "source": [
    "### SWLS segun el estado civil"
   ]
  },
  {
   "cell_type": "code",
   "execution_count": 39,
   "metadata": {},
   "outputs": [
    {
     "data": {
      "text/plain": [
       "Text(0.5,1,'SWLS Estado Civil')"
      ]
     },
     "execution_count": 39,
     "metadata": {},
     "output_type": "execute_result"
    },
    {
     "data": {
      "image/png": "[encoded data removed]",
      "text/plain": [
       "<Figure size 1296x576 with 1 Axes>"
      ]
     },
     "metadata": {
      "needs_background": "light"
     },
     "output_type": "display_data"
    }
   ],
   "source": [
    "f, ax = plt.subplots(figsize = (18, 8))#Asignamos el tamaño del grafico\n",
    "sns.boxplot(x='Estado_Civil', y='Rango_SWLS', data=data, ax=ax, palette='Set1')#Generamos un grafico de boxplot\n",
    "plt.title('SWLS Estado Civil')#Asignamos un titulo a nuestro grafico"
   ]
  },
  {
   "cell_type": "markdown",
   "metadata": {},
   "source": [
    "### SWLS segun el valor de la matricula"
   ]
  },
  {
   "cell_type": "code",
   "execution_count": 40,
   "metadata": {},
   "outputs": [
    {
     "data": {
      "text/plain": [
       "Text(0.5,1,'SWLS Valor Matricula')"
      ]
     },
     "execution_count": 40,
     "metadata": {},
     "output_type": "execute_result"
    },
    {
     "data": {
      "image/png": "[encoded data removed]",
      "text/plain": [
       "<Figure size 1296x576 with 1 Axes>"
      ]
     },
     "metadata": {
      "needs_background": "light"
     },
     "output_type": "display_data"
    }
   ],
   "source": [
    "f, ax = plt.subplots(figsize = (18, 8))#Asignamos el tamaño del grafico\n",
    "sns.boxplot(x='Valor_Matricula', y='Rango_SWLS', data=data, ax=ax, palette='Set1')#Generamos un grafico de boxplot\n",
    "plt.title('SWLS Valor Matricula')#Asignamos un titulo a nuestro grafico"
   ]
  },
  {
   "cell_type": "markdown",
   "metadata": {},
   "source": [
    "### SWLS segun si vive con su familia"
   ]
  },
  {
   "cell_type": "code",
   "execution_count": 41,
   "metadata": {},
   "outputs": [
    {
     "data": {
      "text/plain": [
       "Text(0.5,1,'SWLS Vive actualmente con sus padres')"
      ]
     },
     "execution_count": 41,
     "metadata": {},
     "output_type": "execute_result"
    },
    {
     "data": {
      "image/png": "[encoded data removed]",
      "text/plain": [
       "<Figure size 1296x576 with 1 Axes>"
      ]
     },
     "metadata": {
      "needs_background": "light"
     },
     "output_type": "display_data"
    }
   ],
   "source": [
    "f, ax = plt.subplots(figsize = (18, 8))#Asignamos el tamaño del grafico\n",
    "sns.boxplot(x='Vive_Con_Padres', y='Rango_SWLS', data=data, ax=ax, palette='Set1')#Generamos un grafico de boxplot\n",
    "plt.title('SWLS Vive actualmente con sus padres')#Asignamos un titulo a nuestro grafico"
   ]
  },
  {
   "cell_type": "markdown",
   "metadata": {},
   "source": [
    "### SWLS segun si es cabeza de familia"
   ]
  },
  {
   "cell_type": "code",
   "execution_count": 42,
   "metadata": {},
   "outputs": [
    {
     "data": {
      "text/plain": [
       "Text(0.5,1,'SWLS numero de personas a cargo')"
      ]
     },
     "execution_count": 42,
     "metadata": {},
     "output_type": "execute_result"
    },
    {
     "data": {
      "image/png": "[encoded data removed]",
      "text/plain": [
       "<Figure size 1296x576 with 2 Axes>"
      ]
     },
     "metadata": {
      "needs_background": "light"
     },
     "output_type": "display_data"
    }
   ],
   "source": [
    "f, ax = plt.subplots(1,2,figsize = (18, 8))#Asignamos el tamaño del grafico\n",
    "sns.boxplot(x='Cabeza_Familia', y='Rango_SWLS', data=data, ax=ax[0], palette='Set1')#Generamos un grafico de boxplot para la variable \"cabeza de familia\"\n",
    "plt.title('SWLS Cabeza de familia')\n",
    "\n",
    "sns.boxplot(x='Num_Personas_A_Cargo', y='Rango_SWLS', data=data, ax=ax[1], palette='Set1')#Generamos un grafico de boxplot para numero de personas a cargo\n",
    "plt.title('SWLS numero de personas a cargo')#Asignamos un titulo a nuestro grafico"
   ]
  },
  {
   "cell_type": "markdown",
   "metadata": {},
   "source": [
    "### SWLS segun estrato e ingreso familiar\n"
   ]
  },
  {
   "cell_type": "code",
   "execution_count": 43,
   "metadata": {},
   "outputs": [
    {
     "data": {
      "text/plain": [
       "Text(0.5,1,'SWLS Ingreso familiar')"
      ]
     },
     "execution_count": 43,
     "metadata": {},
     "output_type": "execute_result"
    },
    {
     "data": {
      "image/png": "[encoded data removed]",
      "text/plain": [
       "<Figure size 1296x576 with 2 Axes>"
      ]
     },
     "metadata": {
      "needs_background": "light"
     },
     "output_type": "display_data"
    }
   ],
   "source": [
    "f, ax = plt.subplots(1,2,figsize = (18, 8))#Asignamos el tamaño del grafico\n",
    "sns.boxplot(x='Estrato', y='Rango_SWLS', data=data, ax=ax[0], palette='Set1')#Generamos un grafico de boxplot para el estrato\n",
    "plt.title('SWLS Estrato')#Asignamos un titulo a nuestro grafico\n",
    "\n",
    "sns.boxplot(x='Ingreso_Familiar_Mensual', y='Rango_SWLS', data=data, ax=ax[1], palette='Set1')#Generamos un grafico de boxplot para los ingresos familiares mensuales\n",
    "plt.title('SWLS Ingreso familiar')#Asignamos un titulo a nuestro grafico"
   ]
  },
  {
   "cell_type": "markdown",
   "metadata": {},
   "source": [
    "### SWLS segun si el estudiante trabaja"
   ]
  },
  {
   "cell_type": "code",
   "execution_count": 44,
   "metadata": {
    "scrolled": false
   },
   "outputs": [
    {
     "data": {
      "text/plain": [
       "Text(0.5,1,'SWLS Horas de trabajo')"
      ]
     },
     "execution_count": 44,
     "metadata": {},
     "output_type": "execute_result"
    },
    {
     "data": {
      "image/png": "[encoded data removed]",
      "text/plain": [
       "<Figure size 1296x1440 with 2 Axes>"
      ]
     },
     "metadata": {
      "needs_background": "light"
     },
     "output_type": "display_data"
    }
   ],
   "source": [
    "f, ax = plt.subplots(2,1,figsize = (18, 20))#Asignamos el tamaño del grafico\n",
    "sns.boxplot(x='Trabaja_Actualmente', y='Rango_SWLS', data=data, ax=ax[0], palette='Set1')#Generamos un grafico de boxplot para saber si el estudiante trabaja o no\n",
    "plt.title('SWLS Trabaja actualmente')#Asignamos un titulo a nuestro grafico\n",
    "\n",
    "sns.boxplot(x='Horas_Trabajadas', y='Rango_SWLS', data=data, ax=ax[1], palette='Set1')#Generamos un grafico de boxplot de la cantidad de horas trabajadas por semana\n",
    "plt.title('SWLS Horas de trabajo')#Asignamos un titulo a nuestro grafico"
   ]
  },
  {
   "cell_type": "markdown",
   "metadata": {},
   "source": [
    "### SWLS segun la educacion y ocupacion de los padres"
   ]
  },
  {
   "cell_type": "code",
   "execution_count": 45,
   "metadata": {},
   "outputs": [
    {
     "data": {
      "text/plain": [
       "<matplotlib.axes._subplots.AxesSubplot at 0x7f37cc7778d0>"
      ]
     },
     "execution_count": 45,
     "metadata": {},
     "output_type": "execute_result"
    },
    {
     "data": {
      "image/png": "[encoded data removed]",
      "text/plain": [
       "<Figure size 1296x1440 with 4 Axes>"
      ]
     },
     "metadata": {
      "needs_background": "light"
     },
     "output_type": "display_data"
    }
   ],
   "source": [
    "f, ax = plt.subplots(2,2,figsize = (18, 20)) #Asignamos el tamaño del grafico\n",
    "#Generamos los graficos de boxplot para las variables de educacion y ocupacion de la padre o madre respectivamente\n",
    "sns.boxplot(x='Educacion_Padre', y='Rango_SWLS', data=data, ax=ax[0][0], palette='Set1')\n",
    "sns.boxplot(x='Educacion_Madre', y='Rango_SWLS', data=data, ax=ax[0][1], palette='Set1')\n",
    "sns.boxplot(x='Ocupacion_Madre', y='Rango_SWLS', data=data, ax=ax[1][0], palette='Set1')\n",
    "sns.boxplot(x='Ocupacion_Padre', y='Rango_SWLS', data=data, ax=ax[1][1], palette='Set1')\n"
   ]
  }
 ],
 "metadata": {
  "kernelspec": {
   "display_name": "Python 3",
   "language": "python",
   "name": "python3"
  },
  "language_info": {
   "codemirror_mode": {
    "name": "ipython",
    "version": 2
   },
   "file_extension": ".py",
   "mimetype": "text/x-python",
   "name": "python",
   "nbconvert_exporter": "python",
   "pygments_lexer": "ipython2",
   "version": "2.7.18"
  }
 },
 "nbformat": 4,
 "nbformat_minor": 5
}
