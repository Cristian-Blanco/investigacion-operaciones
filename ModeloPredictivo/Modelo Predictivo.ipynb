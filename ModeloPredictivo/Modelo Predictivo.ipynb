{
 "cells": [
  {
   "cell_type": "markdown",
   "metadata": {},
   "source": [
    "# RandomForestClassifier"
   ]
  },
  {
   "cell_type": "code",
   "execution_count": 1,
   "metadata": {},
   "outputs": [],
   "source": [
    "import pandas as pd #obtencion y analisis de dataframe\n",
    "import matplotlib.pyplot as plt #graficos para el analisis\n",
    "import seaborn as sns #graficos de calor\n",
    "import warnings #Evita los errores\n",
    "warnings.filterwarnings('ignore')"
   ]
  },
  {
   "cell_type": "code",
   "execution_count": 2,
   "metadata": {},
   "outputs": [
    {
     "data": {
      "text/html": [
       "<div>\n",
       "<style scoped>\n",
       "    .dataframe tbody tr th:only-of-type {\n",
       "        vertical-align: middle;\n",
       "    }\n",
       "\n",
       "    .dataframe tbody tr th {\n",
       "        vertical-align: top;\n",
       "    }\n",
       "\n",
       "    .dataframe thead th {\n",
       "        text-align: right;\n",
       "    }\n",
       "</style>\n",
       "<table border=\"1\" class=\"dataframe\">\n",
       "  <thead>\n",
       "    <tr style=\"text-align: right;\">\n",
       "      <th></th>\n",
       "      <th>Programa_Academico</th>\n",
       "      <th>Numero_Matricula</th>\n",
       "      <th>Sexo</th>\n",
       "      <th>Edad</th>\n",
       "      <th>Estado_Civil</th>\n",
       "      <th>Valor_Matricula</th>\n",
       "      <th>Vive_Con_Padres</th>\n",
       "      <th>Cabeza_Familia</th>\n",
       "      <th>Num_Personas_A_Cargo</th>\n",
       "      <th>Estrato</th>\n",
       "      <th>...</th>\n",
       "      <th>Educacion_Madre</th>\n",
       "      <th>Ocupacion_Madre</th>\n",
       "      <th>Ocupacion_Padre</th>\n",
       "      <th>Pregunta1</th>\n",
       "      <th>Pregunta2</th>\n",
       "      <th>Pregunta3</th>\n",
       "      <th>Pregunta4</th>\n",
       "      <th>Pregunta5</th>\n",
       "      <th>Suma_Total</th>\n",
       "      <th>Rango_SWLS</th>\n",
       "    </tr>\n",
       "  </thead>\n",
       "  <tbody>\n",
       "    <tr>\n",
       "      <th>0</th>\n",
       "      <td>Licenciatura en Educación Infantil</td>\n",
       "      <td>5</td>\n",
       "      <td>0</td>\n",
       "      <td>19</td>\n",
       "      <td>1</td>\n",
       "      <td>1</td>\n",
       "      <td>1</td>\n",
       "      <td>0</td>\n",
       "      <td>0</td>\n",
       "      <td>3</td>\n",
       "      <td>...</td>\n",
       "      <td>7</td>\n",
       "      <td>3</td>\n",
       "      <td>1</td>\n",
       "      <td>7</td>\n",
       "      <td>7</td>\n",
       "      <td>6</td>\n",
       "      <td>6</td>\n",
       "      <td>6</td>\n",
       "      <td>32</td>\n",
       "      <td>6</td>\n",
       "    </tr>\n",
       "    <tr>\n",
       "      <th>1</th>\n",
       "      <td>Licenciatura en Física</td>\n",
       "      <td>6</td>\n",
       "      <td>1</td>\n",
       "      <td>20</td>\n",
       "      <td>1</td>\n",
       "      <td>1</td>\n",
       "      <td>1</td>\n",
       "      <td>0</td>\n",
       "      <td>0</td>\n",
       "      <td>3</td>\n",
       "      <td>...</td>\n",
       "      <td>6</td>\n",
       "      <td>2</td>\n",
       "      <td>3</td>\n",
       "      <td>7</td>\n",
       "      <td>7</td>\n",
       "      <td>7</td>\n",
       "      <td>6</td>\n",
       "      <td>5</td>\n",
       "      <td>32</td>\n",
       "      <td>6</td>\n",
       "    </tr>\n",
       "    <tr>\n",
       "      <th>2</th>\n",
       "      <td>Tecnología en saneamiento ambiental</td>\n",
       "      <td>8</td>\n",
       "      <td>0</td>\n",
       "      <td>21</td>\n",
       "      <td>1</td>\n",
       "      <td>2</td>\n",
       "      <td>1</td>\n",
       "      <td>0</td>\n",
       "      <td>0</td>\n",
       "      <td>4</td>\n",
       "      <td>...</td>\n",
       "      <td>7</td>\n",
       "      <td>1</td>\n",
       "      <td>3</td>\n",
       "      <td>7</td>\n",
       "      <td>5</td>\n",
       "      <td>5</td>\n",
       "      <td>7</td>\n",
       "      <td>7</td>\n",
       "      <td>31</td>\n",
       "      <td>6</td>\n",
       "    </tr>\n",
       "    <tr>\n",
       "      <th>3</th>\n",
       "      <td>Licenciatura en humanidades y lengua castellana</td>\n",
       "      <td>9</td>\n",
       "      <td>1</td>\n",
       "      <td>22</td>\n",
       "      <td>1</td>\n",
       "      <td>1</td>\n",
       "      <td>1</td>\n",
       "      <td>0</td>\n",
       "      <td>0</td>\n",
       "      <td>4</td>\n",
       "      <td>...</td>\n",
       "      <td>8</td>\n",
       "      <td>3</td>\n",
       "      <td>1</td>\n",
       "      <td>6</td>\n",
       "      <td>5</td>\n",
       "      <td>7</td>\n",
       "      <td>7</td>\n",
       "      <td>6</td>\n",
       "      <td>31</td>\n",
       "      <td>6</td>\n",
       "    </tr>\n",
       "    <tr>\n",
       "      <th>4</th>\n",
       "      <td>Licenciatura en Ciencias Sociales</td>\n",
       "      <td>8</td>\n",
       "      <td>0</td>\n",
       "      <td>19</td>\n",
       "      <td>1</td>\n",
       "      <td>1</td>\n",
       "      <td>1</td>\n",
       "      <td>0</td>\n",
       "      <td>0</td>\n",
       "      <td>4</td>\n",
       "      <td>...</td>\n",
       "      <td>6</td>\n",
       "      <td>2</td>\n",
       "      <td>1</td>\n",
       "      <td>6</td>\n",
       "      <td>6</td>\n",
       "      <td>6</td>\n",
       "      <td>7</td>\n",
       "      <td>6</td>\n",
       "      <td>31</td>\n",
       "      <td>6</td>\n",
       "    </tr>\n",
       "  </tbody>\n",
       "</table>\n",
       "<p>5 rows × 24 columns</p>\n",
       "</div>"
      ],
      "text/plain": [
       "                                Programa_Academico  Numero_Matricula  Sexo  \\\n",
       "0              Licenciatura en Educación Infantil                  5     0   \n",
       "1                           Licenciatura en Física                 6     1   \n",
       "2              Tecnología en saneamiento ambiental                 8     0   \n",
       "3  Licenciatura en humanidades y lengua castellana                 9     1   \n",
       "4                Licenciatura en Ciencias Sociales                 8     0   \n",
       "\n",
       "   Edad  Estado_Civil  Valor_Matricula  Vive_Con_Padres  Cabeza_Familia  \\\n",
       "0    19             1                1                1               0   \n",
       "1    20             1                1                1               0   \n",
       "2    21             1                2                1               0   \n",
       "3    22             1                1                1               0   \n",
       "4    19             1                1                1               0   \n",
       "\n",
       "   Num_Personas_A_Cargo  Estrato  ...  Educacion_Madre  Ocupacion_Madre  \\\n",
       "0                     0        3  ...                7                3   \n",
       "1                     0        3  ...                6                2   \n",
       "2                     0        4  ...                7                1   \n",
       "3                     0        4  ...                8                3   \n",
       "4                     0        4  ...                6                2   \n",
       "\n",
       "   Ocupacion_Padre  Pregunta1  Pregunta2  Pregunta3  Pregunta4  Pregunta5  \\\n",
       "0                1          7          7          6          6          6   \n",
       "1                3          7          7          7          6          5   \n",
       "2                3          7          5          5          7          7   \n",
       "3                1          6          5          7          7          6   \n",
       "4                1          6          6          6          7          6   \n",
       "\n",
       "   Suma_Total  Rango_SWLS  \n",
       "0          32           6  \n",
       "1          32           6  \n",
       "2          31           6  \n",
       "3          31           6  \n",
       "4          31           6  \n",
       "\n",
       "[5 rows x 24 columns]"
      ]
     },
     "execution_count": 2,
     "metadata": {},
     "output_type": "execute_result"
    }
   ],
   "source": [
    "data = pd.read_csv('muestreo_distrital.csv')#Leemos el dataset para realizar el modelo\n",
    "data.head() #Mostramos las 5 primeras filas del dataset"
   ]
  },
  {
   "cell_type": "markdown",
   "metadata": {},
   "source": [
    "Con base a la correlación de variables, se omitiran aquellas columnas que no infieren en el resultado para entrenar el modelo.\n",
    "#### Variables que NO se utilizaran\n",
    "    1.Programa_Academico\n",
    "    2.Sexo\n",
    "    3.Pregunta1\n",
    "    4.Pregunta2\n",
    "    5.Pregunta3\n",
    "    6.Pregunta4\n",
    "    7.Pregunta5\n",
    "    8.Suma_Total"
   ]
  },
  {
   "cell_type": "code",
   "execution_count": 3,
   "metadata": {},
   "outputs": [
    {
     "name": "stdout",
     "output_type": "stream",
     "text": [
      "<class 'pandas.core.frame.DataFrame'>\n",
      "RangeIndex: 933 entries, 0 to 932\n",
      "Data columns (total 24 columns):\n",
      "Programa_Academico          933 non-null object\n",
      "Numero_Matricula            933 non-null int64\n",
      "Sexo                        933 non-null int64\n",
      "Edad                        933 non-null int64\n",
      "Estado_Civil                933 non-null int64\n",
      "Valor_Matricula             933 non-null int64\n",
      "Vive_Con_Padres             933 non-null int64\n",
      "Cabeza_Familia              933 non-null int64\n",
      "Num_Personas_A_Cargo        933 non-null int64\n",
      "Estrato                     933 non-null int64\n",
      "Ingreso_Familiar_Mensual    933 non-null int64\n",
      "Trabaja_Actualmente         933 non-null int64\n",
      "Horas_Trabajadas            933 non-null int64\n",
      "Educacion_Padre             933 non-null int64\n",
      "Educacion_Madre             933 non-null int64\n",
      "Ocupacion_Madre             933 non-null int64\n",
      "Ocupacion_Padre             933 non-null int64\n",
      "Pregunta1                   933 non-null int64\n",
      "Pregunta2                   933 non-null int64\n",
      "Pregunta3                   933 non-null int64\n",
      "Pregunta4                   933 non-null int64\n",
      "Pregunta5                   933 non-null int64\n",
      "Suma_Total                  933 non-null int64\n",
      "Rango_SWLS                  933 non-null int64\n",
      "dtypes: int64(23), object(1)\n",
      "memory usage: 175.0+ KB\n"
     ]
    }
   ],
   "source": [
    "data.info() #Vemos la informacion del dataset, como la cantidad de variables y el numero de filas"
   ]
  },
  {
   "cell_type": "code",
   "execution_count": 4,
   "metadata": {},
   "outputs": [],
   "source": [
    "#Eliminamos las variables que no se utilizaran para el modelo predictivo\n",
    "TrueData = data.drop(['Programa_Academico','Sexo', 'Pregunta1', 'Pregunta2', 'Pregunta3', 'Pregunta4', 'Pregunta5', 'Suma_Total'], axis='columns')"
   ]
  },
  {
   "cell_type": "code",
   "execution_count": 5,
   "metadata": {},
   "outputs": [
    {
     "data": {
      "text/html": [
       "<div>\n",
       "<style scoped>\n",
       "    .dataframe tbody tr th:only-of-type {\n",
       "        vertical-align: middle;\n",
       "    }\n",
       "\n",
       "    .dataframe tbody tr th {\n",
       "        vertical-align: top;\n",
       "    }\n",
       "\n",
       "    .dataframe thead th {\n",
       "        text-align: right;\n",
       "    }\n",
       "</style>\n",
       "<table border=\"1\" class=\"dataframe\">\n",
       "  <thead>\n",
       "    <tr style=\"text-align: right;\">\n",
       "      <th></th>\n",
       "      <th>Numero_Matricula</th>\n",
       "      <th>Edad</th>\n",
       "      <th>Estado_Civil</th>\n",
       "      <th>Valor_Matricula</th>\n",
       "      <th>Vive_Con_Padres</th>\n",
       "      <th>Cabeza_Familia</th>\n",
       "      <th>Num_Personas_A_Cargo</th>\n",
       "      <th>Estrato</th>\n",
       "      <th>Ingreso_Familiar_Mensual</th>\n",
       "      <th>Trabaja_Actualmente</th>\n",
       "      <th>Horas_Trabajadas</th>\n",
       "      <th>Educacion_Padre</th>\n",
       "      <th>Educacion_Madre</th>\n",
       "      <th>Ocupacion_Madre</th>\n",
       "      <th>Ocupacion_Padre</th>\n",
       "      <th>Rango_SWLS</th>\n",
       "    </tr>\n",
       "  </thead>\n",
       "  <tbody>\n",
       "    <tr>\n",
       "      <th>0</th>\n",
       "      <td>5</td>\n",
       "      <td>19</td>\n",
       "      <td>1</td>\n",
       "      <td>1</td>\n",
       "      <td>1</td>\n",
       "      <td>0</td>\n",
       "      <td>0</td>\n",
       "      <td>3</td>\n",
       "      <td>4</td>\n",
       "      <td>0</td>\n",
       "      <td>0</td>\n",
       "      <td>6</td>\n",
       "      <td>7</td>\n",
       "      <td>3</td>\n",
       "      <td>1</td>\n",
       "      <td>6</td>\n",
       "    </tr>\n",
       "    <tr>\n",
       "      <th>1</th>\n",
       "      <td>6</td>\n",
       "      <td>20</td>\n",
       "      <td>1</td>\n",
       "      <td>1</td>\n",
       "      <td>1</td>\n",
       "      <td>0</td>\n",
       "      <td>0</td>\n",
       "      <td>3</td>\n",
       "      <td>3</td>\n",
       "      <td>0</td>\n",
       "      <td>0</td>\n",
       "      <td>7</td>\n",
       "      <td>6</td>\n",
       "      <td>2</td>\n",
       "      <td>3</td>\n",
       "      <td>6</td>\n",
       "    </tr>\n",
       "    <tr>\n",
       "      <th>2</th>\n",
       "      <td>8</td>\n",
       "      <td>21</td>\n",
       "      <td>1</td>\n",
       "      <td>2</td>\n",
       "      <td>1</td>\n",
       "      <td>0</td>\n",
       "      <td>0</td>\n",
       "      <td>4</td>\n",
       "      <td>3</td>\n",
       "      <td>0</td>\n",
       "      <td>0</td>\n",
       "      <td>8</td>\n",
       "      <td>7</td>\n",
       "      <td>1</td>\n",
       "      <td>3</td>\n",
       "      <td>6</td>\n",
       "    </tr>\n",
       "    <tr>\n",
       "      <th>3</th>\n",
       "      <td>9</td>\n",
       "      <td>22</td>\n",
       "      <td>1</td>\n",
       "      <td>1</td>\n",
       "      <td>1</td>\n",
       "      <td>0</td>\n",
       "      <td>0</td>\n",
       "      <td>4</td>\n",
       "      <td>4</td>\n",
       "      <td>0</td>\n",
       "      <td>0</td>\n",
       "      <td>8</td>\n",
       "      <td>8</td>\n",
       "      <td>3</td>\n",
       "      <td>1</td>\n",
       "      <td>6</td>\n",
       "    </tr>\n",
       "    <tr>\n",
       "      <th>4</th>\n",
       "      <td>8</td>\n",
       "      <td>19</td>\n",
       "      <td>1</td>\n",
       "      <td>1</td>\n",
       "      <td>1</td>\n",
       "      <td>0</td>\n",
       "      <td>0</td>\n",
       "      <td>4</td>\n",
       "      <td>5</td>\n",
       "      <td>0</td>\n",
       "      <td>0</td>\n",
       "      <td>7</td>\n",
       "      <td>6</td>\n",
       "      <td>2</td>\n",
       "      <td>1</td>\n",
       "      <td>6</td>\n",
       "    </tr>\n",
       "  </tbody>\n",
       "</table>\n",
       "</div>"
      ],
      "text/plain": [
       "   Numero_Matricula  Edad  Estado_Civil  Valor_Matricula  Vive_Con_Padres  \\\n",
       "0                 5    19             1                1                1   \n",
       "1                 6    20             1                1                1   \n",
       "2                 8    21             1                2                1   \n",
       "3                 9    22             1                1                1   \n",
       "4                 8    19             1                1                1   \n",
       "\n",
       "   Cabeza_Familia  Num_Personas_A_Cargo  Estrato  Ingreso_Familiar_Mensual  \\\n",
       "0               0                     0        3                         4   \n",
       "1               0                     0        3                         3   \n",
       "2               0                     0        4                         3   \n",
       "3               0                     0        4                         4   \n",
       "4               0                     0        4                         5   \n",
       "\n",
       "   Trabaja_Actualmente  Horas_Trabajadas  Educacion_Padre  Educacion_Madre  \\\n",
       "0                    0                 0                6                7   \n",
       "1                    0                 0                7                6   \n",
       "2                    0                 0                8                7   \n",
       "3                    0                 0                8                8   \n",
       "4                    0                 0                7                6   \n",
       "\n",
       "   Ocupacion_Madre  Ocupacion_Padre  Rango_SWLS  \n",
       "0                3                1           6  \n",
       "1                2                3           6  \n",
       "2                1                3           6  \n",
       "3                3                1           6  \n",
       "4                2                1           6  "
      ]
     },
     "execution_count": 5,
     "metadata": {},
     "output_type": "execute_result"
    }
   ],
   "source": [
    "TrueData.head() #Mostramos las primeras 5 filas de el dataset actualizado"
   ]
  },
  {
   "cell_type": "markdown",
   "metadata": {},
   "source": [
    "Tenemos el dataset con las variables que mas infieren con el resultado, ahora miraremos la cantidad de resultados para categoria en el \"Rango_SWLS\""
   ]
  },
  {
   "cell_type": "code",
   "execution_count": 6,
   "metadata": {},
   "outputs": [],
   "source": [
    "#Para saber que cantidad tuvo cada rango, realizamos lo siguiente.\n",
    "one = TrueData.Rango_SWLS[TrueData.Rango_SWLS == 1].count()\n",
    "two = TrueData.Rango_SWLS[TrueData.Rango_SWLS == 2].count()\n",
    "three = TrueData.Rango_SWLS[TrueData.Rango_SWLS == 3].count()\n",
    "four = TrueData.Rango_SWLS[TrueData.Rango_SWLS == 4].count()\n",
    "five = TrueData.Rango_SWLS[TrueData.Rango_SWLS == 5].count()\n",
    "six = TrueData.Rango_SWLS[TrueData.Rango_SWLS == 6].count()"
   ]
  },
  {
   "cell_type": "code",
   "execution_count": 7,
   "metadata": {},
   "outputs": [
    {
     "data": {
      "text/plain": [
       "(131, 149, 194, 162, 150, 147)"
      ]
     },
     "execution_count": 7,
     "metadata": {},
     "output_type": "execute_result"
    }
   ],
   "source": [
    "one, two, three, four, five, six #cantidad de datos para cada rango que analizara el modelo"
   ]
  },
  {
   "cell_type": "markdown",
   "metadata": {},
   "source": [
    "## Creación del Modelo"
   ]
  },
  {
   "cell_type": "markdown",
   "metadata": {},
   "source": [
    "Para crear el modelo predictivo es de necesidad partir la cantidad del dataseet, una parte de este dataset sera el que va evaluar el modelo creado."
   ]
  },
  {
   "cell_type": "code",
   "execution_count": 29,
   "metadata": {},
   "outputs": [],
   "source": [
    "#importamos de sklear train_test_split para divir el dataseet en una cantidad de entrenamiento y \n",
    "#otra de testeo. la cantidad de testeo sera del 30%\n",
    "from sklearn.model_selection import train_test_split \n",
    "X_train, X_test, y_train, y_test = train_test_split(TrueData.drop(['Rango_SWLS'], axis='columns'), TrueData.Rango_SWLS, test_size=0.3)"
   ]
  },
  {
   "cell_type": "code",
   "execution_count": 30,
   "metadata": {
    "scrolled": true
   },
   "outputs": [
    {
     "data": {
      "text/plain": [
       "RandomForestClassifier(bootstrap=True, class_weight=None, criterion='gini',\n",
       "            max_depth=None, max_features='auto', max_leaf_nodes=None,\n",
       "            min_impurity_decrease=0.0, min_impurity_split=None,\n",
       "            min_samples_leaf=1, min_samples_split=2,\n",
       "            min_weight_fraction_leaf=0.0, n_estimators=10, n_jobs=None,\n",
       "            oob_score=False, random_state=None, verbose=0,\n",
       "            warm_start=False)"
      ]
     },
     "execution_count": 30,
     "metadata": {},
     "output_type": "execute_result"
    }
   ],
   "source": [
    "#Importamos de sklearn el algoritmo de Random Forest Classifier\n",
    "from sklearn.ensemble import RandomForestClassifier \n",
    "model = RandomForestClassifier(n_estimators=10)\n",
    "model.fit(X_train, y_train)#Entrenamos nuestro modelo con las variables x, y de entrenamiento"
   ]
  },
  {
   "cell_type": "code",
   "execution_count": 31,
   "metadata": {},
   "outputs": [
    {
     "data": {
      "text/plain": [
       "0.7142857142857143"
      ]
     },
     "execution_count": 31,
     "metadata": {},
     "output_type": "execute_result"
    }
   ],
   "source": [
    "model.score(X_test, y_test)#Nos da un porcentaje de precision que tuvo el modelo creado"
   ]
  },
  {
   "cell_type": "markdown",
   "metadata": {},
   "source": [
    "## Matriz de Confusion\n",
    "Para describir el desempeño de los modelos de clasificación por clases, creamos la matriz de confusión. En particular, esta matriz representó el poder predictivo del clasificador RandomForestClassifier. Desde este punto de vista, los valores de la diagonal principal representan el grado de clases correctamente predichas."
   ]
  },
  {
   "cell_type": "code",
   "execution_count": 32,
   "metadata": {},
   "outputs": [],
   "source": [
    "y_predicted = model.predict(X_test) #Para realizar un grafico necesitamos las filas que se predijeron"
   ]
  },
  {
   "cell_type": "code",
   "execution_count": 33,
   "metadata": {},
   "outputs": [
    {
     "data": {
      "text/plain": [
       "Text(69,0.5,'Verdadero')"
      ]
     },
     "execution_count": 33,
     "metadata": {},
     "output_type": "execute_result"
    },
    {
     "data": {
      "image/png": "[encoded data removed]",
      "text/plain": [
       "<Figure size 720x504 with 2 Axes>"
      ]
     },
     "metadata": {
      "needs_background": "light"
     },
     "output_type": "display_data"
    }
   ],
   "source": [
    "from sklearn.metrics import confusion_matrix #Importamos la matriz de confusion de sklearn\n",
    "cm = confusion_matrix(y_test, y_predicted)#le pasamos los parametros a la matriz de confusion para futuro grafico\n",
    "\n",
    "%matplotlib inline\n",
    "\n",
    "plt.figure(figsize=(10,7)) #Establecemos el tamaño de el grafico\n",
    "sns.heatmap(cm, \n",
    "            xticklabels = ['1','2','3','4','5','6'],\n",
    "            yticklabels = ['1','2','3','4','5','6'],\n",
    "            annot=True)#Generamos nuestro grafico con base a la informacion anterior\n",
    "plt.xlabel('Prediccion')#El eje x seran los valores que se predijeron en el modelo\n",
    "plt.ylabel('Verdadero') #El eje y seran los valores verdaderos del dataset"
   ]
  },
  {
   "cell_type": "code",
   "execution_count": null,
   "metadata": {},
   "outputs": [],
   "source": [
    "Como se puede observar, donde más tuvo desfases en la predicción, fue en el rango de SWL"
   ]
  }
 ],
 "metadata": {
  "kernelspec": {
   "display_name": "Python 3",
   "language": "python",
   "name": "python3"
  },
  "language_info": {
   "codemirror_mode": {
    "name": "ipython",
    "version": 2
   },
   "file_extension": ".py",
   "mimetype": "text/x-python",
   "name": "python",
   "nbconvert_exporter": "python",
   "pygments_lexer": "ipython2",
   "version": "2.7.18"
  }
 },
 "nbformat": 4,
 "nbformat_minor": 2
}
